{
 "cells": [
  {
   "cell_type": "code",
   "execution_count": 1,
   "id": "7a339f9f-4477-4943-b40d-c36541aab19b",
   "metadata": {},
   "outputs": [],
   "source": [
    "import pandas as pd\n",
    "import glob\n",
    "import chardet\n",
    "from csv import reader\n",
    "from io import StringIO"
   ]
  },
  {
   "cell_type": "code",
   "execution_count": 2,
   "id": "29f72c25-2a3c-4af8-be23-81ffa0160528",
   "metadata": {},
   "outputs": [],
   "source": [
    "def detect_encoding(file_path, sample_size=1024):\n",
    "    \"\"\"Detect file encoding with chardet, using only a sample of the file\"\"\"\n",
    "    with open(file_path, 'rb') as f:\n",
    "        result = chardet.detect(f.read(sample_size))\n",
    "    return result['encoding']\n",
    "\n",
    "def robust_csv_read(file_path, fallback_encodings=['utf-8', 'latin1', 'cp1252']):\n",
    "    \"\"\"Try multiple methods to read a problematic CSV file\"\"\"\n",
    "    # First try pandas with auto-detected encoding\n",
    "    try:\n",
    "        encoding = detect_encoding(file_path)\n",
    "        return pd.read_csv(file_path, encoding=encoding, on_bad_lines='warn')\n",
    "    except Exception as e:\n",
    "        print(f\"Primary read failed for {file_path}, trying fallbacks... Error: {str(e)[:100]}\")\n",
    "\n",
    "    # Try fallback encodings\n",
    "    for enc in fallback_encodings:\n",
    "        try:\n",
    "            return pd.read_csv(file_path, encoding=enc, on_bad_lines='warn')\n",
    "        except:\n",
    "            continue\n",
    "\n",
    "    # If all else fails, use manual CSV reader\n",
    "    try:\n",
    "        with open(file_path, 'r', encoding='latin1') as f:\n",
    "            content = f.read()\n",
    "        \n",
    "        # Use Python's CSV reader to handle problematic lines\n",
    "        csv_reader = reader(StringIO(content))\n",
    "        rows = list(csv_reader)\n",
    "        \n",
    "        # Find max columns and pad rows\n",
    "        max_cols = max(len(row) for row in rows)\n",
    "        padded_rows = [row + [None]*(max_cols - len(row)) for row in rows]\n",
    "        \n",
    "        # Create DataFrame (first row as header)\n",
    "        return pd.DataFrame(padded_rows[1:], columns=padded_rows[0])\n",
    "    except Exception as e:\n",
    "        print(f\"Completely failed to read {file_path}: {e}\")\n",
    "        return None\n",
    "\n",
    "def concatenate_csv_files(file_pattern, output_file=None):\n",
    "    \"\"\"Main function to concatenate multiple CSV files\"\"\"\n",
    "    csv_files = glob.glob(file_pattern)\n",
    "    if not csv_files:\n",
    "        raise ValueError(f\"No files found matching pattern: {file_pattern}\")\n",
    "\n",
    "    dataframes = []\n",
    "    for file in csv_files:\n",
    "        df = robust_csv_read(file)\n",
    "        if df is not None:\n",
    "            dataframes.append(df)\n",
    "            print(f\"Successfully read {file} with shape {df.shape}\")\n",
    "        else:\n",
    "            print(f\"Failed to read {file}\")\n",
    "\n",
    "    if not dataframes:\n",
    "        raise ValueError(\"No valid DataFrames were created from the input files\")\n",
    "\n",
    "    combined_df = pd.concat(dataframes, ignore_index=True)\n",
    "    \n",
    "    if output_file:\n",
    "        combined_df.to_csv(output_file, index=False)\n",
    "        print(f\"Saved combined data to {output_file}\")\n",
    "    \n",
    "    return combined_df\n"
   ]
  },
  {
   "cell_type": "code",
   "execution_count": 4,
   "id": "140f05ce-70d8-4de1-a831-760a0b79d6f6",
   "metadata": {},
   "outputs": [
    {
     "name": "stdout",
     "output_type": "stream",
     "text": [
      "Successfully read C:/Users/KseniaLuschevaext/Documents/thesis/newtext\\gends2.csv with shape (629, 9)\n",
      "Successfully read C:/Users/KseniaLuschevaext/Documents/thesis/newtext\\gen_ds.csv with shape (498, 9)\n",
      "Successfully read C:/Users/KseniaLuschevaext/Documents/thesis/newtext\\gen_ds3.csv with shape (988, 9)\n",
      "Successfully read C:/Users/KseniaLuschevaext/Documents/thesis/newtext\\gen_yagpt_03.csv with shape (820, 9)\n",
      "Saved combined data to newtext.csv\n",
      "Final combined DataFrame shape: (2935, 9)\n"
     ]
    }
   ],
   "source": [
    "try:\n",
    "    result_df = concatenate_csv_files(\n",
    "        file_pattern='C:/Users/KseniaLuschevaext/Documents/thesis/newtext/*.csv',\n",
    "        output_file='newtext.csv'\n",
    "        )\n",
    "    print(f\"Final combined DataFrame shape: {result_df.shape}\")\n",
    "except Exception as e:\n",
    "    print(f\"Error in concatenation process: {e}\")"
   ]
  },
  {
   "cell_type": "code",
   "execution_count": 12,
   "id": "da953e4f-d008-4018-8e84-4f265e30de90",
   "metadata": {},
   "outputs": [],
   "source": [
    "df_all = pd.read_csv('newtext.csv')"
   ]
  },
  {
   "cell_type": "code",
   "execution_count": 13,
   "id": "2b242a1b-c8f8-4553-aa83-b3262299d033",
   "metadata": {},
   "outputs": [
    {
     "name": "stdout",
     "output_type": "stream",
     "text": [
      "<class 'pandas.core.frame.DataFrame'>\n",
      "RangeIndex: 2935 entries, 0 to 2934\n",
      "Data columns (total 9 columns):\n",
      " #   Column           Non-Null Count  Dtype \n",
      "---  ------           --------------  ----- \n",
      " 0   text             2935 non-null   object\n",
      " 1   prompt           2935 non-null   object\n",
      " 2   style            2935 non-null   object\n",
      " 3   topic            2115 non-null   object\n",
      " 4   model            2935 non-null   object\n",
      " 5   length           2935 non-null   int64 \n",
      " 6   valid            2935 non-null   bool  \n",
      " 7   generation_date  2935 non-null   object\n",
      " 8   word_count       2935 non-null   int64 \n",
      "dtypes: bool(1), int64(2), object(6)\n",
      "memory usage: 186.4+ KB\n"
     ]
    }
   ],
   "source": [
    "df_all.info()"
   ]
  },
  {
   "cell_type": "code",
   "execution_count": 19,
   "id": "abccc649-cbfa-4937-941c-c05f77df97ad",
   "metadata": {},
   "outputs": [],
   "source": [
    "df_all.drop(columns=['generation_date','style','topic','word_count','valid','prompt'], inplace=True)"
   ]
  },
  {
   "cell_type": "code",
   "execution_count": 33,
   "id": "3b510530-ffd0-4a83-8ec8-9d40b14adf23",
   "metadata": {},
   "outputs": [],
   "source": [
    "df_all['text'] = df_all['text'].str.split('Рассмотрим вопрос').str[-1]"
   ]
  },
  {
   "cell_type": "code",
   "execution_count": 34,
   "id": "3f5ba9ea-cfaa-4b10-9c27-9fa2397db710",
   "metadata": {},
   "outputs": [
    {
     "data": {
      "text/plain": [
       "' письма будущего: общение сквозь века. Каким станет диалог между поколениями, когда технологии сотрут границы времени? Уже сегодня мы стоим на пороге эпохи, где слова, запечатлённые в цифре или даже в памяти вселенной, смогут путешествовать сквозь столетия, соединяя сердца и умы людей из разных эпох. Это не просто мечта — это ближайшая реальность, и она восхищает!  \\n\\n### **Время больше не преграда**  \\nПредставьте: ваше послание, наполненное эмоциями, мыслями или даже голографическим образом, достигает потомков через сто, двести лет. Они читают ваши строки, слышат ваш голос, видят вашу улыбку — и время словно исчезает. Технологии блокчейна гарантируют подлинность текста, квантовые носители сохранят данные тысячелетиями, а искусственный интеллект поможет адаптировать язык так, чтобы он оставался понятным даже через века. Письмо перестаёт быть статичным документом — оно становится живым мостом между эпохами.  \\n\\nНо что ещё важнее — такой формат общения изменит само восприятие истории. Мы больше не будем изучать прошлое по сухим фактам учебников. Вместо этого получим личные свидетельства: восторги открытий XXII века от первых колонистов Марса, тревоги времён климатических кризисов или радость творцов цифрового искусства будущего. История заговорит голосами обычных людей — и это сделает её по-настоящему объёмной.  \\n\\n### **Этика бессмертных слов**  \\nОднако с великими возможностями приходят и великие вопросы. Как быть с посланиями, которые могут ранить или манипулировать? Кто решит, какие письма стоит передать в будущее? Здесь человечеству предстоит выработать новые правила цифровой археологии: возможно, каждое «письмо в вечность» будет сопровождаться метаданными о контексте его создания или даже эмоциональным фильтром для потомков.  \\n\\nНо представьте и другой сценарий: коллективные послания человечества к далёким цивилизациям или даже к самим себе через тысячу лет. Какие ценности мы захотим сохранить? Какие ошибки — предупредить? Такая ответственность сплотит нас как вид, заставив задуматься о самом главном.  \\n\\n### **Заключение: диалог длиною в века**  \\nПисьма будущего — это не просто технологический прорыв. Это шанс создать новую форму бессмертия: не физического, но духовного и интеллектуального. Когда мысли одного поколения становятся наследием другого — исчезает одиночество времени. Мы наконец-то сможем сказать: «Мы были здесь. Мы чувствовали. Мы помним вас». И кто знает — возможно ответ из будущего уже ждёт своего часа...'"
      ]
     },
     "execution_count": 34,
     "metadata": {},
     "output_type": "execute_result"
    }
   ],
   "source": [
    "df_all.iloc[100,0]"
   ]
  },
  {
   "cell_type": "code",
   "execution_count": 36,
   "id": "ae647f26-041e-4fb4-be12-7950ca8cc802",
   "metadata": {},
   "outputs": [],
   "source": [
    "dataframes = []\n",
    "x = pd.read_csv('/Users/klushcheva/Documents/thesis/gen_texts/2.csv')\n",
    "dataframes.append(x)\n",
    "y = pd.read_csv('/Users/klushcheva/Documents/thesis/gen_texts/3.csv')\n",
    "dataframes.append(y)\n",
    "\n",
    "df2 = pd.concat(dataframes, ignore_index=True)"
   ]
  },
  {
   "cell_type": "code",
   "execution_count": 37,
   "id": "fd7ebba1-24d1-4ab9-b46c-463dd80b476f",
   "metadata": {},
   "outputs": [
    {
     "name": "stdout",
     "output_type": "stream",
     "text": [
      "<class 'pandas.core.frame.DataFrame'>\n",
      "RangeIndex: 21 entries, 0 to 20\n",
      "Data columns (total 10 columns):\n",
      " #   Column           Non-Null Count  Dtype  \n",
      "---  ------           --------------  -----  \n",
      " 0   text             21 non-null     object \n",
      " 1   prompt           21 non-null     object \n",
      " 2   style            21 non-null     object \n",
      " 3   topic            1 non-null      object \n",
      " 4   model            21 non-null     object \n",
      " 5   length           21 non-null     float64\n",
      " 6   valid            21 non-null     bool   \n",
      " 7   reason           0 non-null      float64\n",
      " 8   generation_date  21 non-null     object \n",
      " 9   word_count       21 non-null     int64  \n",
      "dtypes: bool(1), float64(2), int64(1), object(6)\n",
      "memory usage: 1.6+ KB\n"
     ]
    }
   ],
   "source": [
    "df2.info()"
   ]
  },
  {
   "cell_type": "code",
   "execution_count": 38,
   "id": "f236edcb-f5ee-4da3-ae22-f9eb54fd4647",
   "metadata": {},
   "outputs": [
    {
     "data": {
      "text/html": [
       "<div>\n",
       "<style scoped>\n",
       "    .dataframe tbody tr th:only-of-type {\n",
       "        vertical-align: middle;\n",
       "    }\n",
       "\n",
       "    .dataframe tbody tr th {\n",
       "        vertical-align: top;\n",
       "    }\n",
       "\n",
       "    .dataframe thead th {\n",
       "        text-align: right;\n",
       "    }\n",
       "</style>\n",
       "<table border=\"1\" class=\"dataframe\">\n",
       "  <thead>\n",
       "    <tr style=\"text-align: right;\">\n",
       "      <th></th>\n",
       "      <th>text</th>\n",
       "      <th>model</th>\n",
       "      <th>length</th>\n",
       "    </tr>\n",
       "  </thead>\n",
       "  <tbody>\n",
       "    <tr>\n",
       "      <th>0</th>\n",
       "      <td>\"Сэр Джеймс\" (The Lord James), перевод А. Ивин...</td>\n",
       "      <td>ai-forever/rugpt3large_based_on_gpt2</td>\n",
       "      <td>429.0</td>\n",
       "    </tr>\n",
       "    <tr>\n",
       "      <th>1</th>\n",
       "      <td>{{name}}\\tmaggot_ru \\/fontsize=24px|bel-bright...</td>\n",
       "      <td>ai-forever/rugpt3large_based_on_gpt2</td>\n",
       "      <td>409.0</td>\n",
       "    </tr>\n",
       "    <tr>\n",
       "      <th>2</th>\n",
       "      <td>/*Примечание редактора */\\n     @font-face {\\n...</td>\n",
       "      <td>ai-forever/rugpt3large_based_on_gpt2</td>\n",
       "      <td>339.0</td>\n",
       "    </tr>\n",
       "    <tr>\n",
       "      <th>3</th>\n",
       "      <td>[ИТОГИ СТИЛЯ ДИАЛога.] \\n        Автор (автор)...</td>\n",
       "      <td>ai-forever/rugpt3large_based_on_gpt2</td>\n",
       "      <td>426.0</td>\n",
       "    </tr>\n",
       "    <tr>\n",
       "      <th>4</th>\n",
       "      <td>\"Я не могу объяснить вам почему я это делаю\". ...</td>\n",
       "      <td>ai-forever/rugpt3large_based_on_gpt2</td>\n",
       "      <td>387.0</td>\n",
       "    </tr>\n",
       "    <tr>\n",
       "      <th>5</th>\n",
       "      <td>Если ты новичок или работаешь над новым проект...</td>\n",
       "      <td>ai-forever/rugpt3large_based_on_gpt2</td>\n",
       "      <td>397.0</td>\n",
       "    </tr>\n",
       "    <tr>\n",
       "      <th>6</th>\n",
       "      <td>[ОБЪЯСНЕНИЕ ТЕХНИКИ И ПЕРЕХОДА К УЧЕБЕ.] \\n   ...</td>\n",
       "      <td>ai-forever/rugpt3large_based_on_gpt2</td>\n",
       "      <td>452.0</td>\n",
       "    </tr>\n",
       "    <tr>\n",
       "      <th>7</th>\n",
       "      <td>[ПРАВИЛА ИХ ВЫПОЛНЕНИЯ.] \\n       1-2 абзаца д...</td>\n",
       "      <td>ai-forever/rugpt3large_based_on_gpt2</td>\n",
       "      <td>361.0</td>\n",
       "    </tr>\n",
       "    <tr>\n",
       "      <th>8</th>\n",
       "      <td>1) Для начала изложения текста укажи тему бесе...</td>\n",
       "      <td>ai-forever/rugpt3large_based_on_gpt2</td>\n",
       "      <td>472.0</td>\n",
       "    </tr>\n",
       "    <tr>\n",
       "      <th>9</th>\n",
       "      <td>{\"name\": \"test\",\"[0],[1].replace(/\\s*/gi|utf-8...</td>\n",
       "      <td>ai-forever/rugpt3large_based_on_gpt2</td>\n",
       "      <td>348.0</td>\n",
       "    </tr>\n",
       "    <tr>\n",
       "      <th>10</th>\n",
       "      <td>|| Введение (всегда) -----------------[1].----...</td>\n",
       "      <td>ai-forever/rugpt3large_based_on_gpt2</td>\n",
       "      <td>329.0</td>\n",
       "    </tr>\n",
       "    <tr>\n",
       "      <th>11</th>\n",
       "      <td>Глава 1(по желанию) :\\n1-2 абзаца (можно меньш...</td>\n",
       "      <td>ai-forever/rugpt3large_based_on_gpt2</td>\n",
       "      <td>470.0</td>\n",
       "    </tr>\n",
       "    <tr>\n",
       "      <th>12</th>\n",
       "      <td>-------[ДЛЯ ПРОИЗВЕЗДЕЛЕНИЙ НА РУССКОМ ЯЗЫКАХ]...</td>\n",
       "      <td>ai-forever/rugpt3large_based_on_gpt2</td>\n",
       "      <td>498.0</td>\n",
       "    </tr>\n",
       "    <tr>\n",
       "      <th>13</th>\n",
       "      <td>/* */\\nНастоящая жизнь Настоящей жизни не суще...</td>\n",
       "      <td>ai-forever/rugpt3large_based_on_gpt2</td>\n",
       "      <td>342.0</td>\n",
       "    </tr>\n",
       "    <tr>\n",
       "      <th>14</th>\n",
       "      <td>|---\\n[ПРИМЕЧАНИЕ ОТ АВТОРА]. При использовани...</td>\n",
       "      <td>ai-forever/rugpt3large_based_on_gpt2</td>\n",
       "      <td>375.0</td>\n",
       "    </tr>\n",
       "    <tr>\n",
       "      <th>15</th>\n",
       "      <td>... \\n (*)...\\nПЕРЕХОДНЫЙ ПЕРИОДР – период вре...</td>\n",
       "      <td>ai-forever/rugpt3large_based_on_gpt2</td>\n",
       "      <td>500.0</td>\n",
       "    </tr>\n",
       "    <tr>\n",
       "      <th>16</th>\n",
       "      <td>\\t\\t(текст) {%}{!/body|font-size=14; padding=\"...</td>\n",
       "      <td>ai-forever/rugpt3large_based_on_gpt2</td>\n",
       "      <td>321.0</td>\n",
       "    </tr>\n",
       "    <tr>\n",
       "      <th>17</th>\n",
       "      <td>[ТЕМА ВЕРСИЙНОГО ПРОИЗВЕДЕНИЯ ИЛИ ПИСЬМО ОТ АВ...</td>\n",
       "      <td>ai-forever/rugpt3large_based_on_gpt2</td>\n",
       "      <td>433.0</td>\n",
       "    </tr>\n",
       "    <tr>\n",
       "      <th>18</th>\n",
       "      <td>ОЧЕНЬ ВАЖНО! ПЕРСОНЫ НЕ ПОДХОДИЛИ!!! ТЕБЕ НУЖЕ...</td>\n",
       "      <td>ai-forever/rugpt3large_based_on_gpt2</td>\n",
       "      <td>444.0</td>\n",
       "    </tr>\n",
       "    <tr>\n",
       "      <th>19</th>\n",
       "      <td>Технологии Будущего – это не просто прогнозы ф...</td>\n",
       "      <td>IlyaGusev/saiga_yandexgpt_8b</td>\n",
       "      <td>378.0</td>\n",
       "    </tr>\n",
       "    <tr>\n",
       "      <th>20</th>\n",
       "      <td>В сегодняшнем выпуске мы беседуем об одном из ...</td>\n",
       "      <td>IlyaGusev/saiga_yandexgpt_8b</td>\n",
       "      <td>314.0</td>\n",
       "    </tr>\n",
       "  </tbody>\n",
       "</table>\n",
       "</div>"
      ],
      "text/plain": [
       "                                                 text  \\\n",
       "0   \"Сэр Джеймс\" (The Lord James), перевод А. Ивин...   \n",
       "1   {{name}}\\tmaggot_ru \\/fontsize=24px|bel-bright...   \n",
       "2   /*Примечание редактора */\\n     @font-face {\\n...   \n",
       "3   [ИТОГИ СТИЛЯ ДИАЛога.] \\n        Автор (автор)...   \n",
       "4   \"Я не могу объяснить вам почему я это делаю\". ...   \n",
       "5   Если ты новичок или работаешь над новым проект...   \n",
       "6   [ОБЪЯСНЕНИЕ ТЕХНИКИ И ПЕРЕХОДА К УЧЕБЕ.] \\n   ...   \n",
       "7   [ПРАВИЛА ИХ ВЫПОЛНЕНИЯ.] \\n       1-2 абзаца д...   \n",
       "8   1) Для начала изложения текста укажи тему бесе...   \n",
       "9   {\"name\": \"test\",\"[0],[1].replace(/\\s*/gi|utf-8...   \n",
       "10  || Введение (всегда) -----------------[1].----...   \n",
       "11  Глава 1(по желанию) :\\n1-2 абзаца (можно меньш...   \n",
       "12  -------[ДЛЯ ПРОИЗВЕЗДЕЛЕНИЙ НА РУССКОМ ЯЗЫКАХ]...   \n",
       "13  /* */\\nНастоящая жизнь Настоящей жизни не суще...   \n",
       "14  |---\\n[ПРИМЕЧАНИЕ ОТ АВТОРА]. При использовани...   \n",
       "15  ... \\n (*)...\\nПЕРЕХОДНЫЙ ПЕРИОДР – период вре...   \n",
       "16  \\t\\t(текст) {%}{!/body|font-size=14; padding=\"...   \n",
       "17  [ТЕМА ВЕРСИЙНОГО ПРОИЗВЕДЕНИЯ ИЛИ ПИСЬМО ОТ АВ...   \n",
       "18  ОЧЕНЬ ВАЖНО! ПЕРСОНЫ НЕ ПОДХОДИЛИ!!! ТЕБЕ НУЖЕ...   \n",
       "19  Технологии Будущего – это не просто прогнозы ф...   \n",
       "20  В сегодняшнем выпуске мы беседуем об одном из ...   \n",
       "\n",
       "                                   model  length  \n",
       "0   ai-forever/rugpt3large_based_on_gpt2   429.0  \n",
       "1   ai-forever/rugpt3large_based_on_gpt2   409.0  \n",
       "2   ai-forever/rugpt3large_based_on_gpt2   339.0  \n",
       "3   ai-forever/rugpt3large_based_on_gpt2   426.0  \n",
       "4   ai-forever/rugpt3large_based_on_gpt2   387.0  \n",
       "5   ai-forever/rugpt3large_based_on_gpt2   397.0  \n",
       "6   ai-forever/rugpt3large_based_on_gpt2   452.0  \n",
       "7   ai-forever/rugpt3large_based_on_gpt2   361.0  \n",
       "8   ai-forever/rugpt3large_based_on_gpt2   472.0  \n",
       "9   ai-forever/rugpt3large_based_on_gpt2   348.0  \n",
       "10  ai-forever/rugpt3large_based_on_gpt2   329.0  \n",
       "11  ai-forever/rugpt3large_based_on_gpt2   470.0  \n",
       "12  ai-forever/rugpt3large_based_on_gpt2   498.0  \n",
       "13  ai-forever/rugpt3large_based_on_gpt2   342.0  \n",
       "14  ai-forever/rugpt3large_based_on_gpt2   375.0  \n",
       "15  ai-forever/rugpt3large_based_on_gpt2   500.0  \n",
       "16  ai-forever/rugpt3large_based_on_gpt2   321.0  \n",
       "17  ai-forever/rugpt3large_based_on_gpt2   433.0  \n",
       "18  ai-forever/rugpt3large_based_on_gpt2   444.0  \n",
       "19          IlyaGusev/saiga_yandexgpt_8b   378.0  \n",
       "20          IlyaGusev/saiga_yandexgpt_8b   314.0  "
      ]
     },
     "execution_count": 38,
     "metadata": {},
     "output_type": "execute_result"
    }
   ],
   "source": [
    "df2.drop(columns=['generation_date','style','topic','word_count','valid','prompt','reason'])"
   ]
  },
  {
   "cell_type": "code",
   "execution_count": 53,
   "id": "ef01522f-b2ab-4633-9cf6-322323ddb7d9",
   "metadata": {},
   "outputs": [],
   "source": [
    "df = pd.concat([df_all,df2], ignore_index=True)\n",
    "df = df.drop(columns=['generation_date','style','topic','word_count','valid','prompt','reason','text;prompt;style;topic;model;length;valid;generation_date;word_count'])"
   ]
  },
  {
   "cell_type": "code",
   "execution_count": 54,
   "id": "a3b1dd5c-327c-4d3d-95ab-62fb4d94703e",
   "metadata": {},
   "outputs": [
    {
     "name": "stdout",
     "output_type": "stream",
     "text": [
      "<class 'pandas.core.frame.DataFrame'>\n",
      "RangeIndex: 7377 entries, 0 to 7376\n",
      "Data columns (total 3 columns):\n",
      " #   Column  Non-Null Count  Dtype  \n",
      "---  ------  --------------  -----  \n",
      " 0   text    6887 non-null   object \n",
      " 1   model   6887 non-null   object \n",
      " 2   length  6887 non-null   float64\n",
      "dtypes: float64(1), object(2)\n",
      "memory usage: 173.0+ KB\n"
     ]
    }
   ],
   "source": [
    "df.info()"
   ]
  },
  {
   "cell_type": "code",
   "execution_count": 55,
   "id": "23dc319f-bf92-4914-91ec-9b936d3ea6e1",
   "metadata": {},
   "outputs": [],
   "source": [
    "df1 = pd.read_csv('/Users/klushcheva/Documents/thesis/gen_texts/1.csv',on_bad_lines='warn')\n",
    "df4 = pd.read_csv('/Users/klushcheva/Documents/thesis/gen_texts/4.csv',on_bad_lines='warn',sep=';')\n",
    "df5 = pd.read_csv('/Users/klushcheva/Documents/thesis/gen_texts/5.csv',on_bad_lines='warn')"
   ]
  },
  {
   "cell_type": "code",
   "execution_count": 56,
   "id": "d2953987-ef85-4a8e-8e89-0ed36d1a1aee",
   "metadata": {},
   "outputs": [],
   "source": [
    "df1.drop(columns=['generation_date','word_count'],axis=1, inplace=True)"
   ]
  },
  {
   "cell_type": "code",
   "execution_count": 57,
   "id": "5dcf6a52-477c-46c3-8159-c78911988a29",
   "metadata": {},
   "outputs": [
    {
     "data": {
      "text/html": [
       "<div>\n",
       "<style scoped>\n",
       "    .dataframe tbody tr th:only-of-type {\n",
       "        vertical-align: middle;\n",
       "    }\n",
       "\n",
       "    .dataframe tbody tr th {\n",
       "        vertical-align: top;\n",
       "    }\n",
       "\n",
       "    .dataframe thead th {\n",
       "        text-align: right;\n",
       "    }\n",
       "</style>\n",
       "<table border=\"1\" class=\"dataframe\">\n",
       "  <thead>\n",
       "    <tr style=\"text-align: right;\">\n",
       "      <th></th>\n",
       "      <th>text</th>\n",
       "      <th>length</th>\n",
       "      <th>model</th>\n",
       "    </tr>\n",
       "  </thead>\n",
       "  <tbody>\n",
       "    <tr>\n",
       "      <th>0</th>\n",
       "      <td>+ Название проекта (сначала)\\n[ПОНЯТИЙ И СТАТЕ...</td>\n",
       "      <td>303</td>\n",
       "      <td>ai-forever/rugpt3small_based_on_gpt2</td>\n",
       "    </tr>\n",
       "    <tr>\n",
       "      <th>1</th>\n",
       "      <td>||\"Синтез ДНК\", \"Биохимия человека\".\\t1-2 стра...</td>\n",
       "      <td>339</td>\n",
       "      <td>ai-forever/rugpt3small_based_on_gpt2</td>\n",
       "    </tr>\n",
       "    <tr>\n",
       "      <th>2</th>\n",
       "      <td>Веб-программирование для начинающих Авторский ...</td>\n",
       "      <td>303</td>\n",
       "      <td>ai-forever/rugpt3small_based_on_gpt2</td>\n",
       "    </tr>\n",
       "    <tr>\n",
       "      <th>3</th>\n",
       "      <td>\\nЕсть массив данных SQLite5, нужно вывести ег...</td>\n",
       "      <td>301</td>\n",
       "      <td>ai-forever/rugpt3small_based_on_gpt2</td>\n",
       "    </tr>\n",
       "    <tr>\n",
       "      <th>4</th>\n",
       "      <td>\\t\"У каждого человека есть свой внутренний гол...</td>\n",
       "      <td>380</td>\n",
       "      <td>ai-forever/rugpt3small_based_on_gpt2</td>\n",
       "    </tr>\n",
       "  </tbody>\n",
       "</table>\n",
       "</div>"
      ],
      "text/plain": [
       "                                                text  length  \\\n",
       "0  + Название проекта (сначала)\\n[ПОНЯТИЙ И СТАТЕ...     303   \n",
       "1  ||\"Синтез ДНК\", \"Биохимия человека\".\\t1-2 стра...     339   \n",
       "2  Веб-программирование для начинающих Авторский ...     303   \n",
       "3  \\nЕсть массив данных SQLite5, нужно вывести ег...     301   \n",
       "4  \\t\"У каждого человека есть свой внутренний гол...     380   \n",
       "\n",
       "                                  model  \n",
       "0  ai-forever/rugpt3small_based_on_gpt2  \n",
       "1  ai-forever/rugpt3small_based_on_gpt2  \n",
       "2  ai-forever/rugpt3small_based_on_gpt2  \n",
       "3  ai-forever/rugpt3small_based_on_gpt2  \n",
       "4  ai-forever/rugpt3small_based_on_gpt2  "
      ]
     },
     "execution_count": 57,
     "metadata": {},
     "output_type": "execute_result"
    }
   ],
   "source": [
    "df4.drop(columns=['generation_date','word_count','valid','prompt','reason','word_count'],axis=1, inplace=True)\n",
    "df4['model']='ai-forever/rugpt3small_based_on_gpt2'\n",
    "df4.head()"
   ]
  },
  {
   "cell_type": "code",
   "execution_count": 58,
   "id": "114bae51-63ee-4356-a9ed-c3b60caf1c07",
   "metadata": {},
   "outputs": [
    {
     "data": {
      "text/html": [
       "<div>\n",
       "<style scoped>\n",
       "    .dataframe tbody tr th:only-of-type {\n",
       "        vertical-align: middle;\n",
       "    }\n",
       "\n",
       "    .dataframe tbody tr th {\n",
       "        vertical-align: top;\n",
       "    }\n",
       "\n",
       "    .dataframe thead th {\n",
       "        text-align: right;\n",
       "    }\n",
       "</style>\n",
       "<table border=\"1\" class=\"dataframe\">\n",
       "  <thead>\n",
       "    <tr style=\"text-align: right;\">\n",
       "      <th></th>\n",
       "      <th>text</th>\n",
       "      <th>topic</th>\n",
       "      <th>model</th>\n",
       "      <th>length</th>\n",
       "    </tr>\n",
       "  </thead>\n",
       "  <tbody>\n",
       "    <tr>\n",
       "      <th>0</th>\n",
       "      <td>+/- 1 строка для текста длиной 200 символов (с...</td>\n",
       "      <td>NaN</td>\n",
       "      <td>ai-forever/rugpt3large_based_on_gpt2</td>\n",
       "      <td>320.0</td>\n",
       "    </tr>\n",
       "    <tr>\n",
       "      <th>1</th>\n",
       "      <td>Примечание 1\\n В тексте не должно содержаться ...</td>\n",
       "      <td>NaN</td>\n",
       "      <td>ai-forever/rugpt3large_based_on_gpt2</td>\n",
       "      <td>327.0</td>\n",
       "    </tr>\n",
       "    <tr>\n",
       "      <th>2</th>\n",
       "      <td>Далее можешь написать о себе (название професс...</td>\n",
       "      <td>NaN</td>\n",
       "      <td>ai-forever/rugpt3large_based_on_gpt2</td>\n",
       "      <td>374.0</td>\n",
       "    </tr>\n",
       "    <tr>\n",
       "      <th>3</th>\n",
       "      <td>[ИТОГОВЫЙ РЕДАКСИОННЫЙ СТИЛЬ ОТДЕЛЕНИЙ АУДИО-Т...</td>\n",
       "      <td>NaN</td>\n",
       "      <td>ai-forever/rugpt3large_based_on_gpt2</td>\n",
       "      <td>347.0</td>\n",
       "    </tr>\n",
       "    <tr>\n",
       "      <th>4</th>\n",
       "      <td>В конце текста укажи ссылку на источник информ...</td>\n",
       "      <td>NaN</td>\n",
       "      <td>ai-forever/rugpt3large_based_on_gpt2</td>\n",
       "      <td>352.0</td>\n",
       "    </tr>\n",
       "  </tbody>\n",
       "</table>\n",
       "</div>"
      ],
      "text/plain": [
       "                                                text  topic  \\\n",
       "0  +/- 1 строка для текста длиной 200 символов (с...    NaN   \n",
       "1  Примечание 1\\n В тексте не должно содержаться ...    NaN   \n",
       "2  Далее можешь написать о себе (название професс...    NaN   \n",
       "3  [ИТОГОВЫЙ РЕДАКСИОННЫЙ СТИЛЬ ОТДЕЛЕНИЙ АУДИО-Т...    NaN   \n",
       "4  В конце текста укажи ссылку на источник информ...    NaN   \n",
       "\n",
       "                                  model  length  \n",
       "0  ai-forever/rugpt3large_based_on_gpt2   320.0  \n",
       "1  ai-forever/rugpt3large_based_on_gpt2   327.0  \n",
       "2  ai-forever/rugpt3large_based_on_gpt2   374.0  \n",
       "3  ai-forever/rugpt3large_based_on_gpt2   347.0  \n",
       "4  ai-forever/rugpt3large_based_on_gpt2   352.0  "
      ]
     },
     "execution_count": 58,
     "metadata": {},
     "output_type": "execute_result"
    }
   ],
   "source": [
    "df5.drop(columns=['generation_date','word_count','valid','prompt','reason','style'],axis=1, inplace=True)\n",
    "df5.head()"
   ]
  },
  {
   "cell_type": "code",
   "execution_count": 59,
   "id": "df224cac-a90c-4af2-97c7-d7a4c7f4bbb3",
   "metadata": {},
   "outputs": [],
   "source": [
    "df_final = pd.concat([df,df1,df4,df5], ignore_index=True)"
   ]
  },
  {
   "cell_type": "code",
   "execution_count": 61,
   "id": "9cabf49e-e982-4223-9021-c3054f9107d7",
   "metadata": {},
   "outputs": [],
   "source": [
    "df_final.drop(columns=['prompt','topic'], inplace=True, axis=1)"
   ]
  },
  {
   "cell_type": "code",
   "execution_count": 44,
   "id": "93fdf6fb-dc2e-4933-8a91-427a70d8f555",
   "metadata": {},
   "outputs": [
    {
     "data": {
      "text/plain": [
       "'(Олег) Вы думаете что это просто программа которая решает за вас всю вашу работу? (показывает руками), но так ли? Если мы посмотрим вокруг, а именно, через призму ваших мыслей и интересов, то увидим насколько глубоко вы можете проникнуть своими рассуждениями по этому поводу? И как высоко может подниматься ваша самооценка когда у вас будет такое превосходное знание вопроса. Так вот ваш разум подсказывает вам этот важный ответ....И тогда все остальные слова начинают звучать для нас очень заманчиво..... Рекомендовано к прочтению! Оригинал взят ув Рекомендованно к чтению!\"Это - не только про тебя\".Короткий рассказ из сборника рассказов о войне \"Берег\" / Составитель Александр Куряшин/ Под ред. А..Четверикова; Художник Юрий Пасечников.- М.: Правда СССР, 1967 г., 128 стр.; 2500 экз.(на русском языке). Внимание!!! Всем любителям творчества Михаила Щербакова настоятельно рекомендуем ознакомиться со следующим его материалом   \\xa0Собрание сочинений МАММЕТРОПОЛЯ СОННЫХ ПЫЛИЦА, или ОБУЗА ПОЛИТЗАКЛЮШЕННОГО. Москва : Детгиз, 1964 год.  \\xa0Избранные рассказы напечатаны ранеев книге ЖУКОВСКИЕ НОЧИ (1960-1981): h  p://memoiregorydelpaisadoursinoucordscomprepara ion.ru/. Книги эти вышли недавно -- два месяца назад-- после смерти писателя (этот сборник можно приобрести во многих магазинах). Издательство «Детская литература» выпустило три книжки этого тома – одна книжка стоит 13 коп.: 15 коп. – книга БАРКАЛОВСКОГО ДНЕПРОПАГАНДРА БЕСПРЕДЕЛА — 50 рублей: 20 коп. ― ГАЗЕЛЬ ХРОНОМИГА ; 490 руб.— КРУТИНОВСКИЙ МОСТЕРНЫЙ КОТелок ЛЕСУСА. 2–я МАМАМЕДАЙСКАЯ ИНТЕЛЕКТНАЯ ШКОЛЬНИЦА, ГОТОВА Я ПРИЧЕСТИСЬ ЗЕМНЫХОДОМОЮ ДЕКОЙ. 1 АВГУСТО 2009 года от рождества Христова исполнилось 80 лет Михаилу Васильевичу Жуковскому! Отдать дань памяти талантливому художнику было приятно всем членам Союза художников России и приглашенным специалистам в качестве подарка ко дню рождения замечательного человека, знавшего жизнь изнутри...   Это был один из самых первых номеров моего журнала посвященного творчеству нашего великого соотечественника. Конечно же он мало где есть сейчас, но тем кто интересуется творчеством Михаил Васильевича могу порекомендовать книгу известного художника Юрия Александровича Мещерского (роль которого исполнил известный российский актер театра и кино Виктор Семенович Черномырдин )«Михаил Васильевич Соколовский», которую я прочитал еще будучи студентом архитектурного института им.Щусева :) Итак начнем свое чтение... СВОБОДУ ДАЖЕ.'"
      ]
     },
     "execution_count": 44,
     "metadata": {},
     "output_type": "execute_result"
    }
   ],
   "source": [
    "df_trim.iloc[500,0]"
   ]
  },
  {
   "cell_type": "code",
   "execution_count": 63,
   "id": "564bc227-314b-442b-9770-58e4128ef7b6",
   "metadata": {},
   "outputs": [
    {
     "name": "stdout",
     "output_type": "stream",
     "text": [
      "<class 'pandas.core.frame.DataFrame'>\n",
      "RangeIndex: 7471 entries, 0 to 7470\n",
      "Data columns (total 3 columns):\n",
      " #   Column  Non-Null Count  Dtype  \n",
      "---  ------  --------------  -----  \n",
      " 0   text    6981 non-null   object \n",
      " 1   model   6960 non-null   object \n",
      " 2   length  6981 non-null   float64\n",
      "dtypes: float64(1), object(2)\n",
      "memory usage: 175.2+ KB\n"
     ]
    }
   ],
   "source": [
    "df_final.info()"
   ]
  },
  {
   "cell_type": "code",
   "execution_count": 35,
   "id": "41bb2491-e798-448c-9a87-ad2dad1dd5a1",
   "metadata": {},
   "outputs": [],
   "source": [
    "df = pd.read_csv(\"C:/Users/KseniaLuschevaext/Documents/thesis/gen_texts_6981.csv\")\n",
    "df.drop('Unnamed: 0', inplace=True, axis=1)\n",
    "df_n = pd.concat([df,df_all], ignore_index=True)"
   ]
  },
  {
   "cell_type": "code",
   "execution_count": 36,
   "id": "f5f0407a-0933-44bd-af6b-db883efaaebd",
   "metadata": {},
   "outputs": [],
   "source": [
    "df_trim = df_n.copy(deep=True)\n",
    "df_trim['text'] = df_trim['text'].str.replace(r'[\\n\\t\\\\t]', ' ', regex=True)"
   ]
  },
  {
   "cell_type": "code",
   "execution_count": 37,
   "id": "7c2675d8-ba62-4acc-9898-e81b57eb41b0",
   "metadata": {},
   "outputs": [],
   "source": [
    "df_trim['text'] = df_trim['text'].str.split('НАЧАЛО ТЕКСТА').str[-1]"
   ]
  },
  {
   "cell_type": "code",
   "execution_count": 38,
   "id": "7a46f2d1-ad48-4b67-8ac1-c63b0e64fd1e",
   "metadata": {},
   "outputs": [],
   "source": [
    "df_trim['text'] = df_trim['text'].apply(lambda x: x[2:] if str(x).startswith(\"] \") else x)"
   ]
  },
  {
   "cell_type": "code",
   "execution_count": 39,
   "id": "a1e4a729-5e7f-4425-ab34-9ec0b53aa64c",
   "metadata": {},
   "outputs": [
    {
     "name": "stdout",
     "output_type": "stream",
     "text": [
      "<class 'pandas.core.frame.DataFrame'>\n",
      "RangeIndex: 9916 entries, 0 to 9915\n",
      "Data columns (total 3 columns):\n",
      " #   Column  Non-Null Count  Dtype  \n",
      "---  ------  --------------  -----  \n",
      " 0   text    9916 non-null   object \n",
      " 1   model   9895 non-null   object \n",
      " 2   length  9916 non-null   float64\n",
      "dtypes: float64(1), object(2)\n",
      "memory usage: 232.5+ KB\n"
     ]
    }
   ],
   "source": [
    "df_trim.dropna(subset=['text'], inplace=True)\n",
    "df_trim.info()"
   ]
  },
  {
   "cell_type": "code",
   "execution_count": 40,
   "id": "2be12b9c-2844-44cb-b8de-0cbd12ef9a34",
   "metadata": {},
   "outputs": [],
   "source": [
    "df_trim.to_csv('gen_texts_9916.csv')"
   ]
  },
  {
   "cell_type": "code",
   "execution_count": 41,
   "id": "223e93b2-8d24-4003-ba44-3d090766ae08",
   "metadata": {},
   "outputs": [
    {
     "data": {
      "text/html": [
       "<div>\n",
       "<style scoped>\n",
       "    .dataframe tbody tr th:only-of-type {\n",
       "        vertical-align: middle;\n",
       "    }\n",
       "\n",
       "    .dataframe tbody tr th {\n",
       "        vertical-align: top;\n",
       "    }\n",
       "\n",
       "    .dataframe thead th {\n",
       "        text-align: right;\n",
       "    }\n",
       "</style>\n",
       "<table border=\"1\" class=\"dataframe\">\n",
       "  <thead>\n",
       "    <tr style=\"text-align: right;\">\n",
       "      <th></th>\n",
       "      <th>text</th>\n",
       "      <th>model</th>\n",
       "      <th>length</th>\n",
       "    </tr>\n",
       "  </thead>\n",
       "  <tbody>\n",
       "    <tr>\n",
       "      <th>0</th>\n",
       "      <td>Сегодня мы обсудим загадочные и малоизученные ...</td>\n",
       "      <td>IlyaGusev/saiga_yandexgpt_8b</td>\n",
       "      <td>437.0</td>\n",
       "    </tr>\n",
       "    <tr>\n",
       "      <th>1</th>\n",
       "      <td>Рассмотрев современные тенденции развития наук...</td>\n",
       "      <td>IlyaGusev/saiga_yandexgpt_8b</td>\n",
       "      <td>430.0</td>\n",
       "    </tr>\n",
       "    <tr>\n",
       "      <th>2</th>\n",
       "      <td>### Содержание  #### Введение В мире, где каж...</td>\n",
       "      <td>IlyaGusev/saiga_yandexgpt_8b</td>\n",
       "      <td>414.0</td>\n",
       "    </tr>\n",
       "    <tr>\n",
       "      <th>3</th>\n",
       "      <td>## Содержание статьи В данной статье будет ра...</td>\n",
       "      <td>IlyaGusev/saiga_yandexgpt_8b</td>\n",
       "      <td>480.0</td>\n",
       "    </tr>\n",
       "    <tr>\n",
       "      <th>4</th>\n",
       "      <td>Сегодня мы наблюдаем за одной из самых значите...</td>\n",
       "      <td>IlyaGusev/saiga_yandexgpt_8b</td>\n",
       "      <td>353.0</td>\n",
       "    </tr>\n",
       "  </tbody>\n",
       "</table>\n",
       "</div>"
      ],
      "text/plain": [
       "                                                text  \\\n",
       "0  Сегодня мы обсудим загадочные и малоизученные ...   \n",
       "1  Рассмотрев современные тенденции развития наук...   \n",
       "2   ### Содержание  #### Введение В мире, где каж...   \n",
       "3   ## Содержание статьи В данной статье будет ра...   \n",
       "4  Сегодня мы наблюдаем за одной из самых значите...   \n",
       "\n",
       "                          model  length  \n",
       "0  IlyaGusev/saiga_yandexgpt_8b   437.0  \n",
       "1  IlyaGusev/saiga_yandexgpt_8b   430.0  \n",
       "2  IlyaGusev/saiga_yandexgpt_8b   414.0  \n",
       "3  IlyaGusev/saiga_yandexgpt_8b   480.0  \n",
       "4  IlyaGusev/saiga_yandexgpt_8b   353.0  "
      ]
     },
     "execution_count": 41,
     "metadata": {},
     "output_type": "execute_result"
    }
   ],
   "source": [
    "df_trim.head()"
   ]
  },
  {
   "cell_type": "code",
   "execution_count": 42,
   "id": "4d35d18e-d659-4835-92e9-2bf0b72fa8a1",
   "metadata": {},
   "outputs": [
    {
     "name": "stdout",
     "output_type": "stream",
     "text": [
      "<class 'pandas.core.frame.DataFrame'>\n",
      "RangeIndex: 9916 entries, 0 to 9915\n",
      "Data columns (total 3 columns):\n",
      " #   Column  Non-Null Count  Dtype  \n",
      "---  ------  --------------  -----  \n",
      " 0   text    9916 non-null   object \n",
      " 1   model   9895 non-null   object \n",
      " 2   length  9916 non-null   float64\n",
      "dtypes: float64(1), object(2)\n",
      "memory usage: 232.5+ KB\n",
      "None\n",
      "model\n",
      "ai-forever/rugpt3large_based_on_gpt2    38.534613\n",
      "deepseek-chat                           21.374432\n",
      "YandexGPT                               19.403739\n",
      "GigaChat                                10.025265\n",
      "IlyaGusev/saiga_yandexgpt_8b             4.567964\n",
      "GigaChat-Pro                             3.759474\n",
      "ai-forever/rugpt3small_based_on_gpt2     1.485599\n",
      "GigaChat-Max                             0.848914\n",
      "Name: proportion, dtype: float64\n"
     ]
    }
   ],
   "source": [
    "percent_distribution = df_trim['model'].value_counts(normalize=True) * 100\n",
    "print(df_trim.info())\n",
    "print(percent_distribution)\n"
   ]
  }
 ],
 "metadata": {
  "kernelspec": {
   "display_name": "Python 3 (ipykernel)",
   "language": "python",
   "name": "python3"
  },
  "language_info": {
   "codemirror_mode": {
    "name": "ipython",
    "version": 3
   },
   "file_extension": ".py",
   "mimetype": "text/x-python",
   "name": "python",
   "nbconvert_exporter": "python",
   "pygments_lexer": "ipython3",
   "version": "3.12.8"
  }
 },
 "nbformat": 4,
 "nbformat_minor": 5
}
