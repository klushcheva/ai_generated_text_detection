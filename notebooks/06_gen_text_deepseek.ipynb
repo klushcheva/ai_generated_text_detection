{
 "cells": [
  {
   "cell_type": "code",
   "execution_count": 1,
   "id": "7d45766a-f31d-4148-b25b-b06b0db73ffc",
   "metadata": {},
   "outputs": [],
   "source": [
    "import requests\n",
    "import concurrent.futures\n",
    "import pickle\n",
    "import os\n",
    "import random\n",
    "import re\n",
    "from tqdm import tqdm\n",
    "import pandas as pd\n",
    "from collections import defaultdict\n",
    "\n",
    "# Configuration\n",
    "DEEPSEEK_API_KEY = \"..." \n",
    "DEEPSEEK_API_URL = \"https://api.deepseek.com/v1/chat/completions\"\n",
    "\n",
    "# Global failure statistics tracker\n",
    "failure_stats = defaultdict(int)\n",
    "\n",
    "topics = [\n",
    "    \"подводные города будущего\",\n",
    "    \"роботы-поэты\",\n",
    "    \"тайны тёмной материи\",\n",
    "    \"биохакинг человека\",\n",
    "    \"забытые языки\",\n",
    "    \"гипотеза Римана и распределение простых чисел\",\n",
    "    \"топология в анализе больших данных\",\n",
    "    \"алгоритмы машинного обучения на графах\",\n",
    "    \"мифы о параллельных вселенных\",\n",
    "    \"цифровое бессмертие\",\n",
    "    \"генетически модифицированные искусства\",\n",
    "    \"теория всего\",\n",
    "    \"колонизация Марса\",\n",
    "    \"этика искусственного сознания\",\n",
    "    \"уход за домашними животными\",\n",
    "    \"поход в поликлинику\",\n",
    "    \"выпечка хлеба\",\n",
    "    \"работа в саду\",\n",
    "    \"поиск работы\",\n",
    "    \"обучение вождению\",\n",
    "    \"ремонт велосипеда\",\n",
    "    \"организация хранения вещей\",\n",
    "    \"выбор нового телефона\",\n",
    "    \"планирование бюджета\",\n",
    "    \"арт-инсталляции в космосе\",\n",
    "    \"философия хаоса\",\n",
    "    \"металлоорганические каркасы для хранения водорода\",\n",
    "    \"каталитические наноматериалы в зеленой химии\",\n",
    "    \"химия люминесцентных белков медуз\",\n",
    "    \"поведенческая экономика и политика налогообложения\",\n",
    "    \"блокчейн в центральных банковских системах\",\n",
    "    \"экономика декарбонизации энергетического сектора\",\n",
    "    \"корпусный анализ диалектных вариаций русского языка\",\n",
    "    \"универсальные грамматические структуры в креольских языках\",\n",
    "    \"натуральный язык и обработка речи\",\n",
    "    \"Эволюция сленга в цифровую эпоху\",\n",
    "    \"Языки жестов и их нейролингвистическое изучение\",\n",
    "    \"Мертвые языки и их влияние на современные\",\n",
    "    \"Универсальный базовый доход: за и против\",\n",
    "    \"Цифровые валюты и будущее денег\",\n",
    "    \"Экономика шеринга и отказ от собственности\",\n",
    "    \"Автоматизация и будущее рабочих мест\",\n",
    "    \"Глобальное неравенство и технологии\",\n",
    "    \"Голографические дисплеи будущего\",\n",
    "    \"Экзоскелеты в медицине и промышленности\",\n",
    "    \"влияние музыки на человеческий мозг\",\n",
    "    \"проблемы экологии и устойчивое развитие\",\n",
    "    \"разработка умных городов\",\n",
    "    \"сравнительный анализ языков программирования\",\n",
    "    \"технологии дополненной реальности в образовании\",\n",
    "    \"путешествия во времени: философские аспекты\",\n",
    "    \"влияние генетики на поведение\",\n",
    "    \"мир, где люди могут читать мысли\",\n",
    "    \"фантастическая жизнь домашнего животного\",\n",
    "    \"картинки из детства: магия воспоминаний\",\n",
    "    \"дневник призрака: история из другого мира\",\n",
    "    \"письма будущего: общение сквозь века\",\n",
    "    \"книга, которая изменяет реальность\"\n",
    "]\n",
    "\n",
    "tones = [\n",
    "    \"нейтральном\", \"восторженном\", \"скептическом\", \"юмористическом\",\n",
    "    \"аналитическом\", \"саркастичном\", \"меланхоличном\", \"вдохновляющем\", \"драматическом\",\n",
    "    \"причудливом\", \"мрачном\", \"оптимистичном\", \"пессимистичном\", \"загадочном\",\n",
    "    \"авторитетном\", \"неформальном\", \"романтическом\", \"отстранённый\"\n",
    "]\n",
    "\n",
    "actions = [\n",
    "    \"объяснить\", \"описать\", \"обсудить\", \"написать рассказ о\",\n",
    "    \"проанализировать\", \"сравнить и сопоставить\", \"предсказать будущее\",\n",
    "    \"критиковать\", \"представить мир, где\", \"подвести итог\",\n",
    "    \"защитить\", \"оспаривать\", \"переосмыслить\", \"придумать новую теорию о\",\n",
    "    \"пародировать\", \"взять интервью у эксперта по\", \"написать новостной репортаж о\",\n",
    "    \"создать диалог о\", \"перечислить плюсы и минусы\", \"исследовать этические аспекты\", \"написать научную статью о\"\n",
    "]\n",
    "\n",
    "styles = [\"формальный\", \"деловой\", \"шуточный\", \"школьный\", \"творческий\", \"публицистический\"]\n",
    "\n",
    "class DeepSeekGenerator:\n",
    "    def __init__(self, api_key):\n",
    "        self.api_key = api_key\n",
    "        self.headers = {\n",
    "            \"Authorization\": f\"Bearer {self.api_key}\",\n",
    "            \"Content-Type\": \"application/json\"\n",
    "        }\n",
    "    \n",
    "    def generate(self, prompt, **kwargs):\n",
    "        try:\n",
    "            params = {\n",
    "                \"model\": \"deepseek-chat\",\n",
    "                \"messages\": [{\"role\": \"user\", \"content\": prompt}],\n",
    "                \"temperature\": kwargs.get(\"temperature\", 0.7),\n",
    "                \"max_tokens\": kwargs.get(\"max_tokens\", 1000),\n",
    "                \"top_p\": kwargs.get(\"top_p\", 0.9),\n",
    "                \"frequency_penalty\": kwargs.get(\"frequency_penalty\", 0),\n",
    "                \"presence_penalty\": kwargs.get(\"presence_penalty\", 0),\n",
    "                \"stop\": kwargs.get(\"stop\", None)\n",
    "            }\n",
    "            \n",
    "            response = requests.post(DEEPSEEK_API_URL, headers=self.headers, json=params)\n",
    "            response.raise_for_status()\n",
    "            \n",
    "            result = response.json()\n",
    "            return result['choices'][0]['message']['content']\n",
    "        \n",
    "        except Exception as e:\n",
    "            print(f\"Error in DeepSeek API call: {str(e)}\")\n",
    "            return None\n",
    "\n",
    "def generate_corpus(num_texts, output_csv=\"generated_corpus.csv\", max_workers=2, batch_size=2, checkpoint_interval=10):\n",
    "    \"\"\"\n",
    "    Generates corpus with periodic checkpointing to prevent data loss.\n",
    "\n",
    "    Args:\n",
    "        num_texts (int): Total texts to generate\n",
    "        output_csv (str): Output file path\n",
    "        max_workers (int): Parallel threads\n",
    "        batch_size (int): Texts per parallel batch\n",
    "        checkpoint_interval (int): Save after every N batches\n",
    "    \"\"\"\n",
    "\n",
    "    def create_prompt():\n",
    "        \"\"\"Generate a more structured and specific writing prompt\"\"\"\n",
    "        style = random.choice(styles)\n",
    "        topic = random.choice(topics)\n",
    "        tone = random.choice(tones)\n",
    "        action = random.choice(actions)\n",
    "\n",
    "        # More detailed instructions\n",
    "        prompt = f\"\"\"Ты профессиональный писатель. Напиши текст, который:\n",
    "1. {action} на тему \"{topic}\"\n",
    "2. В {tone} тоне\n",
    "3. Используя {style} стиль\n",
    "4. Объём: 300-500 слов\n",
    "5. Структура: чёткое введение, основная часть, заключение\n",
    "6. Не упоминай инструкции в тексте\n",
    "7. Начинай сразу с содержания\n",
    "\n",
    "Пример хорошего начала:\n",
    "{get_example_start(topic, tone, style)}\n",
    "\n",
    "[НАЧАЛО ТЕКСТА]\"\"\"\n",
    "        return prompt, style\n",
    "\n",
    "    def get_example_start(topic, tone, style):\n",
    "        \"\"\"Provide example starts based on tone/style\"\"\"\n",
    "        examples = {\n",
    "            'formal': f\"В данной статье рассматривается {topic}...\",\n",
    "            'creative': f\"Представьте себе мир, где {topic}...\",\n",
    "            'humorous': f\"Что получится, если смешать {topic} и...\",\n",
    "        }\n",
    "        return examples.get(style, f\"Рассмотрим вопрос {topic}...\")\n",
    "\n",
    "    def extract_topic(prompt):\n",
    "        \"\"\"Extract main topic from prompt\"\"\"\n",
    "        match = re.search(r\"тему ['\\\"](.+?)['\\\"]\", prompt)\n",
    "        return match.group(1) if match else None\n",
    "\n",
    "    def post_process(text):\n",
    "        \"\"\"Clean up generated text\"\"\"\n",
    "        # Remove any remaining prompt fragments\n",
    "        text = re.split(r\"\\[НАЧАЛО ТЕКСТА] |Инструкция:|Требования:\", text)[-1]\n",
    "\n",
    "        # Fix common formatting issues\n",
    "        text = re.sub(r\"\\n{3,}\", \"\\n\\n\", text)  # normalize newlines\n",
    "        text = text.strip()\n",
    "\n",
    "        # Ensure proper punctuation\n",
    "        if not text.endswith(('.', '!', '?')):\n",
    "            text += '.'\n",
    "\n",
    "        return text\n",
    "\n",
    "    def validate_output(text, prompt):\n",
    "        \"\"\"More sophisticated validation with scoring\"\"\"\n",
    "        if not text or len(text.strip()) == 0:\n",
    "            failure_stats['empty'] += 1\n",
    "            return False\n",
    "\n",
    "        # Scoring system\n",
    "        score = 0\n",
    "\n",
    "        # 1. Length check (30% weight)\n",
    "        word_count = len(text.split())\n",
    "        if 300 <= word_count:\n",
    "            score += 30\n",
    "        elif word_count >= 200:\n",
    "            score += 10  # partial credit for medium texts\n",
    "            failure_stats['length_short'] += 1\n",
    "        else:\n",
    "            failure_stats['length_very_short'] += 1\n",
    "\n",
    "        # 2. Instruction contamination (20% weight)\n",
    "        forbidden_phrases = [\"инструкция\", \"требование\", \"напиши текст\"]\n",
    "        if not any(phrase in text.lower() for phrase in forbidden_phrases):\n",
    "            score += 20\n",
    "        else:\n",
    "            failure_stats['instructions'] += 1\n",
    "\n",
    "        # 3. Structure check (20% weight)\n",
    "        has_intro = any(p in text[:100] for p in [\"Введение\", \"Рассмотрим\", \"В данной\"])\n",
    "        has_conclusion = any(p in text[-100:] for p in [\"Таким образом\", \"В заключение\", \"Подводя итоги\"])\n",
    "        if has_intro and has_conclusion:\n",
    "            score += 20\n",
    "        else:\n",
    "            failure_stats['structure'] += 1\n",
    "\n",
    "        # 4. Topic relevance (30% weight)\n",
    "        topic = extract_topic(prompt)\n",
    "        if topic:\n",
    "            topic_words = topic.lower().split()\n",
    "            matches = sum(1 for word in topic_words if word in text.lower())\n",
    "            if matches / len(topic_words) > 0.7:  # at least 70% match\n",
    "                score += 30\n",
    "            else:\n",
    "                failure_stats['topic'] += 1\n",
    "\n",
    "        # Periodically print failure stats\n",
    "        if sum(failure_stats.values()) % 20 == 0:\n",
    "            print(\"\\nFailure statistics:\")\n",
    "            for reason, count in failure_stats.items():\n",
    "                print(f\"{reason}: {count}\")\n",
    "            print()\n",
    "\n",
    "        return score >= 55  # require 65/100 points to pass\n",
    "\n",
    "    def get_generation_params(style):\n",
    "        \"\"\"Return parameters tuned for specific style\"\"\"\n",
    "        return {\n",
    "            \"temperature\": 0.7 if style in [\"formal\", \"деловой\"] else 0.9,\n",
    "            \"top_p\": 0.9,\n",
    "            \"max_tokens\": 1000,\n",
    "            \"frequency_penalty\": 0.5,\n",
    "            \"presence_penalty\": 0.5\n",
    "        }\n",
    "\n",
    "    def generate_with_fallback(api, prompt, style, max_attempts=3):\n",
    "        \"\"\"Try multiple generation strategies\"\"\"\n",
    "        for attempt in range(max_attempts):\n",
    "            params = get_generation_params(style)\n",
    "\n",
    "            # Vary parameters on retry\n",
    "            if attempt > 0:\n",
    "                params[\"temperature\"] = min(params[\"temperature\"] + 0.1, 1.0)\n",
    "                params[\"frequency_penalty\"] += 0.1\n",
    "\n",
    "            raw_text = api.generate(prompt, **params)\n",
    "            processed = post_process(raw_text) if raw_text else None\n",
    "\n",
    "            if processed and validate_output(processed, prompt):\n",
    "                return processed\n",
    "\n",
    "        return None\n",
    "\n",
    "    def process_batch(batch_prompts, batch_styles, api):\n",
    "        \"\"\"Process a batch of prompts using the API\"\"\"\n",
    "        batch_results = []\n",
    "        for prompt, style in zip(batch_prompts, batch_styles):\n",
    "            text = generate_with_fallback(api, prompt, style)\n",
    "\n",
    "            if text:\n",
    "                topic = extract_topic(prompt)\n",
    "                word_count = len(text.split())\n",
    "\n",
    "                batch_results.append({\n",
    "                    \"text\": text,\n",
    "                    \"prompt\": prompt,\n",
    "                    \"style\": style,\n",
    "                    \"topic\": topic,\n",
    "                    \"model\": \"deepseek-chat\",\n",
    "                    \"length\": word_count,\n",
    "                    \"valid\": True\n",
    "                })\n",
    "            else:\n",
    "                batch_results.append({\n",
    "                    \"prompt\": prompt,\n",
    "                    \"valid\": False,\n",
    "                    \"reason\": \"All generation attempts failed\"\n",
    "                })\n",
    "\n",
    "        return batch_results\n",
    "\n",
    "    # Checkpoint file setup\n",
    "    checkpoint_file = output_csv.replace(\".csv\", \"_checkpoint.pkl\")\n",
    "    final_output = output_csv\n",
    "\n",
    "    # Initialize DeepSeek API client\n",
    "    api = DeepSeekGenerator(DEEPSEEK_API_KEY)\n",
    "\n",
    "    # Try to load existing checkpoint\n",
    "    try:\n",
    "        with open(checkpoint_file, 'rb') as f:\n",
    "            checkpoint = pickle.load(f)\n",
    "            corpus = checkpoint['corpus']\n",
    "            completed_texts = checkpoint['completed_texts']\n",
    "            all_prompts = checkpoint['all_prompts']\n",
    "            all_styles = checkpoint['all_styles']\n",
    "        print(f\"⏩ Resuming from checkpoint ({completed_texts}/{num_texts} texts already generated)\")\n",
    "\n",
    "    except (FileNotFoundError, EOFError, pickle.UnpicklingError):\n",
    "        corpus = []\n",
    "        completed_texts = 0\n",
    "\n",
    "        # Generate all prompts upfront\n",
    "        all_prompts, all_styles = zip(*[create_prompt() for _ in range(num_texts)])\n",
    "\n",
    "        # Save initial checkpoint\n",
    "        checkpoint = {\n",
    "            'corpus': corpus,\n",
    "            'completed_texts': completed_texts,\n",
    "            'all_prompts': all_prompts,\n",
    "            'all_styles': all_styles\n",
    "        }\n",
    "        with open(checkpoint_file, 'wb') as f:\n",
    "            pickle.dump(checkpoint, f)\n",
    "\n",
    "    # Main generation loop\n",
    "    try:\n",
    "        with tqdm(total=num_texts, initial=completed_texts, desc=\"Generating corpus\") as pbar:\n",
    "            with concurrent.futures.ThreadPoolExecutor(max_workers=max_workers) as executor:\n",
    "                futures = []\n",
    "\n",
    "                for i in range(completed_texts, num_texts, batch_size):\n",
    "                    batch_p = all_prompts[i:i + batch_size]\n",
    "                    batch_s = all_styles[i:i + batch_size]\n",
    "                    futures.append(executor.submit(process_batch, batch_p, batch_s, api))\n",
    "\n",
    "                    # Periodic checkpointing\n",
    "                    if len(futures) % checkpoint_interval == 0:\n",
    "                        for future in concurrent.futures.as_completed(futures):\n",
    "                            batch_results = future.result()\n",
    "                            corpus.extend(batch_results)\n",
    "                            pbar.update(len(batch_results))\n",
    "\n",
    "                        completed_texts = len([x for x in corpus if x.get('valid', False)])\n",
    "\n",
    "                        checkpoint = {\n",
    "                            'corpus': corpus,\n",
    "                            'completed_texts': completed_texts,\n",
    "                            'all_prompts': all_prompts,\n",
    "                            'all_styles': all_styles\n",
    "                        }\n",
    "                        with open(checkpoint_file, 'wb') as f:\n",
    "                            pickle.dump(checkpoint, f)\n",
    "                        print(f\"\\n💾 Checkpoint saved ({completed_texts}/{num_texts} valid texts)\")\n",
    "                        print(f\"Current pass rate: {completed_texts / (i + batch_size) * 100:.1f}%\")\n",
    "                        print(\"Failure statistics:\")\n",
    "                        for reason, count in failure_stats.items():\n",
    "                            print(f\"{reason}: {count}\")\n",
    "                        print()\n",
    "\n",
    "                        futures = []\n",
    "\n",
    "                # Process remaining futures\n",
    "                for future in concurrent.futures.as_completed(futures):\n",
    "                    batch_results = future.result()\n",
    "                    corpus.extend(batch_results)\n",
    "                    pbar.update(len(batch_results))\n",
    "\n",
    "        # Final processing\n",
    "        df = pd.DataFrame([x for x in corpus if x.get('valid', False)])\n",
    "\n",
    "        if 'length' not in df.columns and 'text' in df.columns:\n",
    "            df['length'] = df['text'].str.split().str.len()\n",
    "\n",
    "        df = df.drop_duplicates(subset=['text'])\n",
    "        df['generation_date'] = pd.Timestamp.now()\n",
    "        df['word_count'] = df['text'].str.split().str.len()\n",
    "\n",
    "        df.to_csv(final_output, index=False, encoding='utf-8-sig')\n",
    "\n",
    "        if os.path.exists(checkpoint_file):\n",
    "            os.remove(checkpoint_file)\n",
    "\n",
    "        print(f\"\\n✅ Successfully generated {len(df)} valid texts\")\n",
    "        print(\"Final failure statistics:\")\n",
    "        for reason, count in failure_stats.items():\n",
    "            print(f\"{reason}: {count}\")\n",
    "\n",
    "        return df\n",
    "\n",
    "    except Exception as e:\n",
    "        print(f\"\\n⚠️ Error encountered: {str(e)}\")\n",
    "        print(f\"💾 Current progress saved to checkpoint file: {checkpoint_file}\")\n",
    "        print(\"You can resume generation by running the function again with the same parameters.\")\n",
    "        raise"
   ]
  },
  {
   "cell_type": "code",
   "execution_count": 2,
   "id": "c41de106-7a2d-493a-9294-6f10ab4d063b",
   "metadata": {},
   "outputs": [
    {
     "name": "stdout",
     "output_type": "stream",
     "text": [
      "⏩ Resuming from checkpoint (57/1000 texts already generated)\n"
     ]
    },
    {
     "name": "stderr",
     "output_type": "stream",
     "text": [
      "Generating corpus:   7%|███▉                                                       | 67/1000 [02:57<3:55:23, 15.14s/it]"
     ]
    },
    {
     "name": "stdout",
     "output_type": "stream",
     "text": [
      "\n",
      "💾 Checkpoint saved (67/1000 valid texts)\n",
      "Current pass rate: 100.0%\n",
      "Failure statistics:\n",
      "structure: 11\n",
      "topic: 1\n",
      "length_short: 4\n",
      "\n"
     ]
    },
    {
     "name": "stderr",
     "output_type": "stream",
     "text": [
      "Generating corpus:   7%|████                                                       | 68/1000 [03:26<5:02:47, 19.49s/it]"
     ]
    },
    {
     "name": "stdout",
     "output_type": "stream",
     "text": [
      "\n",
      "Failure statistics:\n",
      "structure: 13\n",
      "topic: 2\n",
      "length_short: 5\n",
      "\n"
     ]
    },
    {
     "name": "stderr",
     "output_type": "stream",
     "text": [
      "Generating corpus:   8%|████▌                                                      | 77/1000 [06:50<7:56:40, 30.99s/it]"
     ]
    },
    {
     "name": "stdout",
     "output_type": "stream",
     "text": [
      "\n",
      "💾 Checkpoint saved (77/1000 valid texts)\n",
      "Current pass rate: 100.0%\n",
      "Failure statistics:\n",
      "structure: 23\n",
      "topic: 3\n",
      "length_short: 6\n",
      "\n"
     ]
    },
    {
     "name": "stderr",
     "output_type": "stream",
     "text": [
      "Generating corpus:   9%|█████▏                                                     | 87/1000 [10:33<6:08:04, 24.19s/it]"
     ]
    },
    {
     "name": "stdout",
     "output_type": "stream",
     "text": [
      "\n",
      "💾 Checkpoint saved (86/1000 valid texts)\n",
      "Current pass rate: 98.9%\n",
      "Failure statistics:\n",
      "structure: 35\n",
      "topic: 6\n",
      "length_short: 8\n",
      "\n"
     ]
    },
    {
     "name": "stderr",
     "output_type": "stream",
     "text": [
      "Generating corpus:  10%|█████▋                                                     | 97/1000 [13:27<4:07:30, 16.45s/it]"
     ]
    },
    {
     "name": "stdout",
     "output_type": "stream",
     "text": [
      "\n",
      "💾 Checkpoint saved (96/1000 valid texts)\n",
      "Current pass rate: 99.0%\n",
      "Failure statistics:\n",
      "structure: 46\n",
      "topic: 7\n",
      "length_short: 14\n",
      "\n"
     ]
    },
    {
     "name": "stderr",
     "output_type": "stream",
     "text": [
      "Generating corpus:  11%|██████▏                                                   | 107/1000 [16:07<3:17:27, 13.27s/it]"
     ]
    },
    {
     "name": "stdout",
     "output_type": "stream",
     "text": [
      "\n",
      "💾 Checkpoint saved (106/1000 valid texts)\n",
      "Current pass rate: 99.1%\n",
      "Failure statistics:\n",
      "structure: 56\n",
      "topic: 7\n",
      "length_short: 16\n",
      "\n"
     ]
    },
    {
     "name": "stderr",
     "output_type": "stream",
     "text": [
      "Generating corpus:  12%|██████▊                                                   | 117/1000 [18:56<4:05:49, 16.70s/it]"
     ]
    },
    {
     "name": "stdout",
     "output_type": "stream",
     "text": [
      "\n",
      "💾 Checkpoint saved (116/1000 valid texts)\n",
      "Current pass rate: 99.1%\n",
      "Failure statistics:\n",
      "structure: 66\n",
      "topic: 7\n",
      "length_short: 19\n",
      "instructions: 1\n",
      "\n"
     ]
    },
    {
     "name": "stderr",
     "output_type": "stream",
     "text": [
      "Generating corpus:  12%|███████▏                                                  | 123/1000 [20:32<3:25:42, 14.07s/it]"
     ]
    },
    {
     "name": "stdout",
     "output_type": "stream",
     "text": [
      "\n",
      "Failure statistics:\n",
      "structure: 72\n",
      "topic: 7\n",
      "length_short: 20\n",
      "instructions: 1\n",
      "\n"
     ]
    },
    {
     "name": "stderr",
     "output_type": "stream",
     "text": [
      "Generating corpus:  13%|███████▎                                                  | 127/1000 [21:35<3:43:11, 15.34s/it]"
     ]
    },
    {
     "name": "stdout",
     "output_type": "stream",
     "text": [
      "\n",
      "💾 Checkpoint saved (126/1000 valid texts)\n",
      "Current pass rate: 99.2%\n",
      "Failure statistics:\n",
      "structure: 76\n",
      "topic: 7\n",
      "length_short: 22\n",
      "instructions: 1\n",
      "\n"
     ]
    },
    {
     "name": "stderr",
     "output_type": "stream",
     "text": [
      "Generating corpus:  14%|███████▉                                                  | 137/1000 [24:32<4:31:01, 18.84s/it]"
     ]
    },
    {
     "name": "stdout",
     "output_type": "stream",
     "text": [
      "\n",
      "💾 Checkpoint saved (136/1000 valid texts)\n",
      "Current pass rate: 99.3%\n",
      "Failure statistics:\n",
      "structure: 86\n",
      "topic: 7\n",
      "length_short: 25\n",
      "instructions: 1\n",
      "\n"
     ]
    },
    {
     "name": "stderr",
     "output_type": "stream",
     "text": [
      "Generating corpus:  15%|████████▌                                                 | 147/1000 [28:02<4:31:33, 19.10s/it]"
     ]
    },
    {
     "name": "stdout",
     "output_type": "stream",
     "text": [
      "\n",
      "💾 Checkpoint saved (145/1000 valid texts)\n",
      "Current pass rate: 98.6%\n",
      "Failure statistics:\n",
      "structure: 98\n",
      "topic: 10\n",
      "length_short: 27\n",
      "instructions: 1\n",
      "\n"
     ]
    },
    {
     "name": "stderr",
     "output_type": "stream",
     "text": [
      "Generating corpus:  15%|████████▊                                                 | 151/1000 [29:09<3:32:49, 15.04s/it]"
     ]
    },
    {
     "name": "stdout",
     "output_type": "stream",
     "text": [
      "\n",
      "Failure statistics:\n",
      "structure: 102\n",
      "topic: 10\n",
      "length_short: 27\n",
      "instructions: 1\n",
      "\n"
     ]
    },
    {
     "name": "stderr",
     "output_type": "stream",
     "text": [
      "Generating corpus:  16%|█████████                                                 | 157/1000 [31:19<4:47:32, 20.47s/it]"
     ]
    },
    {
     "name": "stdout",
     "output_type": "stream",
     "text": [
      "\n",
      "💾 Checkpoint saved (155/1000 valid texts)\n",
      "Current pass rate: 98.7%\n",
      "Failure statistics:\n",
      "structure: 109\n",
      "topic: 11\n",
      "length_short: 29\n",
      "instructions: 1\n",
      "\n"
     ]
    },
    {
     "name": "stderr",
     "output_type": "stream",
     "text": [
      "Generating corpus:  16%|█████████▍                                                | 163/1000 [32:53<3:22:48, 14.54s/it]"
     ]
    },
    {
     "name": "stdout",
     "output_type": "stream",
     "text": [
      "\n",
      "Failure statistics:\n",
      "structure: 115\n",
      "topic: 11\n",
      "length_short: 33\n",
      "instructions: 1\n",
      "\n"
     ]
    },
    {
     "name": "stderr",
     "output_type": "stream",
     "text": [
      "Generating corpus:  17%|█████████▋                                                | 167/1000 [33:59<3:25:29, 14.80s/it]"
     ]
    },
    {
     "name": "stdout",
     "output_type": "stream",
     "text": [
      "\n",
      "💾 Checkpoint saved (165/1000 valid texts)\n",
      "Current pass rate: 98.8%\n",
      "Failure statistics:\n",
      "structure: 119\n",
      "topic: 11\n",
      "length_short: 33\n",
      "instructions: 1\n",
      "\n"
     ]
    },
    {
     "name": "stderr",
     "output_type": "stream",
     "text": [
      "Generating corpus:  18%|██████████▎                                               | 177/1000 [36:39<3:30:01, 15.31s/it]"
     ]
    },
    {
     "name": "stdout",
     "output_type": "stream",
     "text": [
      "\n",
      "💾 Checkpoint saved (175/1000 valid texts)\n",
      "Current pass rate: 98.9%\n",
      "Failure statistics:\n",
      "structure: 129\n",
      "topic: 11\n",
      "length_short: 36\n",
      "instructions: 1\n",
      "\n"
     ]
    },
    {
     "name": "stderr",
     "output_type": "stream",
     "text": [
      "Generating corpus:  18%|██████████▍                                               | 179/1000 [37:11<3:17:14, 14.41s/it]"
     ]
    },
    {
     "name": "stdout",
     "output_type": "stream",
     "text": [
      "\n",
      "Failure statistics:\n",
      "structure: 131\n",
      "topic: 11\n",
      "length_short: 37\n",
      "instructions: 1\n",
      "\n"
     ]
    },
    {
     "name": "stderr",
     "output_type": "stream",
     "text": [
      "Generating corpus:  19%|██████████▊                                               | 187/1000 [39:31<3:40:36, 16.28s/it]"
     ]
    },
    {
     "name": "stdout",
     "output_type": "stream",
     "text": [
      "\n",
      "💾 Checkpoint saved (185/1000 valid texts)\n",
      "Current pass rate: 98.9%\n",
      "Failure statistics:\n",
      "structure: 139\n",
      "topic: 11\n",
      "length_short: 39\n",
      "instructions: 1\n",
      "\n"
     ]
    },
    {
     "name": "stderr",
     "output_type": "stream",
     "text": [
      "Generating corpus:  20%|███████████▍                                              | 197/1000 [42:41<5:06:44, 22.92s/it]"
     ]
    },
    {
     "name": "stdout",
     "output_type": "stream",
     "text": [
      "\n",
      "💾 Checkpoint saved (195/1000 valid texts)\n",
      "Current pass rate: 99.0%\n",
      "Failure statistics:\n",
      "structure: 150\n",
      "topic: 12\n",
      "length_short: 41\n",
      "instructions: 1\n",
      "\n"
     ]
    },
    {
     "name": "stderr",
     "output_type": "stream",
     "text": [
      "Generating corpus:  20%|███████████▊                                              | 204/1000 [45:08<4:19:18, 19.55s/it]"
     ]
    },
    {
     "name": "stdout",
     "output_type": "stream",
     "text": [
      "\n",
      "Failure statistics:\n",
      "structure: 159\n",
      "topic: 15\n",
      "length_short: 45\n",
      "instructions: 1\n",
      "\n"
     ]
    },
    {
     "name": "stderr",
     "output_type": "stream",
     "text": [
      "Generating corpus:  21%|████████████                                              | 207/1000 [45:48<3:22:19, 15.31s/it]"
     ]
    },
    {
     "name": "stdout",
     "output_type": "stream",
     "text": [
      "\n",
      "💾 Checkpoint saved (204/1000 valid texts)\n",
      "Current pass rate: 98.6%\n",
      "Failure statistics:\n",
      "structure: 162\n",
      "topic: 15\n",
      "length_short: 47\n",
      "instructions: 1\n",
      "\n"
     ]
    },
    {
     "name": "stderr",
     "output_type": "stream",
     "text": [
      "Generating corpus:  22%|████████████▌                                             | 217/1000 [49:06<5:02:08, 23.15s/it]"
     ]
    },
    {
     "name": "stdout",
     "output_type": "stream",
     "text": [
      "\n",
      "💾 Checkpoint saved (214/1000 valid texts)\n",
      "Current pass rate: 98.6%\n",
      "Failure statistics:\n",
      "structure: 173\n",
      "topic: 16\n",
      "length_short: 47\n",
      "instructions: 1\n",
      "\n"
     ]
    },
    {
     "name": "stderr",
     "output_type": "stream",
     "text": [
      "Generating corpus:  22%|████████████▋                                             | 219/1000 [49:41<4:14:46, 19.57s/it]"
     ]
    },
    {
     "name": "stdout",
     "output_type": "stream",
     "text": [
      "\n",
      "Failure statistics:\n",
      "structure: 175\n",
      "topic: 16\n",
      "length_short: 48\n",
      "instructions: 1\n",
      "\n"
     ]
    },
    {
     "name": "stderr",
     "output_type": "stream",
     "text": [
      "Generating corpus:  23%|█████████████▏                                            | 227/1000 [52:31<4:03:14, 18.88s/it]"
     ]
    },
    {
     "name": "stdout",
     "output_type": "stream",
     "text": [
      "\n",
      "💾 Checkpoint saved (223/1000 valid texts)\n",
      "Current pass rate: 98.2%\n",
      "Failure statistics:\n",
      "structure: 185\n",
      "topic: 19\n",
      "length_short: 48\n",
      "instructions: 1\n",
      "\n"
     ]
    },
    {
     "name": "stderr",
     "output_type": "stream",
     "text": [
      "Generating corpus:  23%|█████████████▌                                            | 233/1000 [54:04<2:55:36, 13.74s/it]"
     ]
    },
    {
     "name": "stdout",
     "output_type": "stream",
     "text": [
      "\n",
      "Failure statistics:\n",
      "structure: 191\n",
      "topic: 19\n",
      "length_short: 49\n",
      "instructions: 1\n",
      "\n"
     ]
    },
    {
     "name": "stderr",
     "output_type": "stream",
     "text": [
      "Generating corpus:  24%|█████████████▋                                            | 237/1000 [55:04<2:57:48, 13.98s/it]"
     ]
    },
    {
     "name": "stdout",
     "output_type": "stream",
     "text": [
      "\n",
      "💾 Checkpoint saved (233/1000 valid texts)\n",
      "Current pass rate: 98.3%\n",
      "Failure statistics:\n",
      "structure: 195\n",
      "topic: 19\n",
      "length_short: 51\n",
      "instructions: 1\n",
      "\n"
     ]
    },
    {
     "name": "stderr",
     "output_type": "stream",
     "text": [
      "Generating corpus:  25%|██████████████▎                                           | 247/1000 [57:30<2:33:31, 12.23s/it]"
     ]
    },
    {
     "name": "stdout",
     "output_type": "stream",
     "text": [
      "\n",
      "💾 Checkpoint saved (243/1000 valid texts)\n",
      "Current pass rate: 98.4%\n",
      "Failure statistics:\n",
      "structure: 205\n",
      "topic: 19\n",
      "length_short: 56\n",
      "instructions: 1\n",
      "\n"
     ]
    },
    {
     "name": "stderr",
     "output_type": "stream",
     "text": [
      "Generating corpus:  26%|██████████████▍                                         | 257/1000 [1:01:16<4:38:58, 22.53s/it]"
     ]
    },
    {
     "name": "stdout",
     "output_type": "stream",
     "text": [
      "\n",
      "💾 Checkpoint saved (253/1000 valid texts)\n",
      "Current pass rate: 98.4%\n",
      "Failure statistics:\n",
      "structure: 215\n",
      "topic: 19\n",
      "length_short: 57\n",
      "instructions: 1\n",
      "\n"
     ]
    },
    {
     "name": "stderr",
     "output_type": "stream",
     "text": [
      "Generating corpus:  26%|██████████████▊                                         | 264/1000 [1:04:01<4:22:04, 21.36s/it]"
     ]
    },
    {
     "name": "stdout",
     "output_type": "stream",
     "text": [
      "\n",
      "Failure statistics:\n",
      "structure: 222\n",
      "topic: 19\n",
      "length_short: 58\n",
      "instructions: 1\n",
      "\n"
     ]
    },
    {
     "name": "stderr",
     "output_type": "stream",
     "text": [
      "Generating corpus:  27%|██████████████▉                                         | 267/1000 [1:06:18<8:15:22, 40.55s/it]"
     ]
    },
    {
     "name": "stdout",
     "output_type": "stream",
     "text": [
      "\n",
      "💾 Checkpoint saved (262/1000 valid texts)\n",
      "Current pass rate: 98.1%\n",
      "Failure statistics:\n",
      "structure: 227\n",
      "topic: 22\n",
      "length_short: 60\n",
      "instructions: 1\n",
      "\n"
     ]
    },
    {
     "name": "stderr",
     "output_type": "stream",
     "text": [
      "Generating corpus:  28%|███████████████▍                                        | 275/1000 [1:09:09<3:55:31, 19.49s/it]"
     ]
    },
    {
     "name": "stdout",
     "output_type": "stream",
     "text": [
      "\n",
      "Failure statistics:\n",
      "structure: 235\n",
      "topic: 22\n",
      "length_short: 61\n",
      "instructions: 2\n",
      "\n"
     ]
    },
    {
     "name": "stderr",
     "output_type": "stream",
     "text": [
      "Generating corpus:  28%|███████████████▌                                        | 277/1000 [1:09:46<3:38:19, 18.12s/it]"
     ]
    },
    {
     "name": "stdout",
     "output_type": "stream",
     "text": [
      "\n",
      "💾 Checkpoint saved (272/1000 valid texts)\n",
      "Current pass rate: 98.2%\n",
      "Failure statistics:\n",
      "structure: 237\n",
      "topic: 22\n",
      "length_short: 62\n",
      "instructions: 2\n",
      "\n"
     ]
    },
    {
     "name": "stderr",
     "output_type": "stream",
     "text": [
      "Generating corpus:  29%|████████████████                                        | 287/1000 [1:13:57<4:28:51, 22.63s/it]"
     ]
    },
    {
     "name": "stdout",
     "output_type": "stream",
     "text": [
      "\n",
      "💾 Checkpoint saved (282/1000 valid texts)\n",
      "Current pass rate: 98.3%\n",
      "Failure statistics:\n",
      "structure: 247\n",
      "topic: 22\n",
      "length_short: 66\n",
      "instructions: 2\n",
      "\n"
     ]
    },
    {
     "name": "stderr",
     "output_type": "stream",
     "text": [
      "Generating corpus:  30%|████████████████▋                                       | 297/1000 [1:18:15<5:45:02, 29.45s/it]"
     ]
    },
    {
     "name": "stdout",
     "output_type": "stream",
     "text": [
      "\n",
      "💾 Checkpoint saved (292/1000 valid texts)\n",
      "Current pass rate: 98.3%\n",
      "Failure statistics:\n",
      "structure: 257\n",
      "topic: 22\n",
      "length_short: 69\n",
      "instructions: 3\n",
      "\n"
     ]
    },
    {
     "name": "stderr",
     "output_type": "stream",
     "text": [
      "Generating corpus:  30%|████████████████▉                                       | 303/1000 [1:20:41<4:34:15, 23.61s/it]"
     ]
    },
    {
     "name": "stdout",
     "output_type": "stream",
     "text": [
      "\n",
      "Failure statistics:\n",
      "structure: 264\n",
      "topic: 23\n",
      "length_short: 70\n",
      "instructions: 3\n",
      "\n"
     ]
    },
    {
     "name": "stderr",
     "output_type": "stream",
     "text": [
      "Generating corpus:  31%|█████████████████▏                                      | 307/1000 [1:23:38<6:48:18, 35.35s/it]"
     ]
    },
    {
     "name": "stdout",
     "output_type": "stream",
     "text": [
      "\n",
      "💾 Checkpoint saved (302/1000 valid texts)\n",
      "Current pass rate: 98.4%\n",
      "Failure statistics:\n",
      "structure: 270\n",
      "topic: 25\n",
      "length_short: 70\n",
      "instructions: 3\n",
      "\n"
     ]
    },
    {
     "name": "stderr",
     "output_type": "stream",
     "text": [
      "Generating corpus:  32%|█████████████████▊                                      | 317/1000 [1:27:20<4:06:27, 21.65s/it]"
     ]
    },
    {
     "name": "stdout",
     "output_type": "stream",
     "text": [
      "\n",
      "Failure statistics:\n",
      "structure: 280\n",
      "topic: 25\n",
      "length_short: 72\n",
      "instructions: 3\n",
      "\n",
      "\n",
      "💾 Checkpoint saved (312/1000 valid texts)\n",
      "Current pass rate: 98.4%\n",
      "Failure statistics:\n",
      "structure: 280\n",
      "topic: 25\n",
      "length_short: 72\n",
      "instructions: 3\n",
      "\n"
     ]
    },
    {
     "name": "stderr",
     "output_type": "stream",
     "text": [
      "Generating corpus:  33%|██████████████████▎                                     | 327/1000 [1:30:38<2:52:39, 15.39s/it]"
     ]
    },
    {
     "name": "stdout",
     "output_type": "stream",
     "text": [
      "\n",
      "💾 Checkpoint saved (322/1000 valid texts)\n",
      "Current pass rate: 98.5%\n",
      "Failure statistics:\n",
      "structure: 290\n",
      "topic: 25\n",
      "length_short: 74\n",
      "instructions: 3\n",
      "\n"
     ]
    },
    {
     "name": "stderr",
     "output_type": "stream",
     "text": [
      "Generating corpus:  33%|██████████████████▋                                     | 333/1000 [1:32:33<3:19:13, 17.92s/it]"
     ]
    },
    {
     "name": "stdout",
     "output_type": "stream",
     "text": [
      "\n",
      "Failure statistics:\n",
      "structure: 296\n",
      "topic: 25\n",
      "length_short: 76\n",
      "instructions: 3\n",
      "\n"
     ]
    },
    {
     "name": "stderr",
     "output_type": "stream",
     "text": [
      "Generating corpus:  34%|██████████████████▊                                     | 337/1000 [1:33:38<3:00:30, 16.34s/it]"
     ]
    },
    {
     "name": "stdout",
     "output_type": "stream",
     "text": [
      "\n",
      "💾 Checkpoint saved (332/1000 valid texts)\n",
      "Current pass rate: 98.5%\n",
      "Failure statistics:\n",
      "structure: 300\n",
      "topic: 25\n",
      "length_short: 79\n",
      "instructions: 3\n",
      "\n"
     ]
    },
    {
     "name": "stderr",
     "output_type": "stream",
     "text": [
      "Generating corpus:  35%|███████████████████▍                                    | 346/1000 [1:36:22<2:54:20, 15.99s/it]"
     ]
    },
    {
     "name": "stdout",
     "output_type": "stream",
     "text": [
      "\n",
      "Failure statistics:\n",
      "structure: 309\n",
      "topic: 25\n",
      "length_short: 82\n",
      "instructions: 4\n",
      "\n"
     ]
    },
    {
     "name": "stderr",
     "output_type": "stream",
     "text": [
      "Generating corpus:  35%|███████████████████▍                                    | 347/1000 [1:36:54<3:44:56, 20.67s/it]"
     ]
    },
    {
     "name": "stdout",
     "output_type": "stream",
     "text": [
      "\n",
      "💾 Checkpoint saved (342/1000 valid texts)\n",
      "Current pass rate: 98.6%\n",
      "Failure statistics:\n",
      "structure: 310\n",
      "topic: 25\n",
      "length_short: 82\n",
      "instructions: 4\n",
      "\n"
     ]
    },
    {
     "name": "stderr",
     "output_type": "stream",
     "text": [
      "Generating corpus:  36%|███████████████████▉                                    | 357/1000 [1:39:56<2:46:49, 15.57s/it]"
     ]
    },
    {
     "name": "stdout",
     "output_type": "stream",
     "text": [
      "\n",
      "💾 Checkpoint saved (352/1000 valid texts)\n",
      "Current pass rate: 98.6%\n",
      "Failure statistics:\n",
      "structure: 320\n",
      "topic: 25\n",
      "length_short: 85\n",
      "instructions: 4\n",
      "\n"
     ]
    },
    {
     "name": "stderr",
     "output_type": "stream",
     "text": [
      "Generating corpus:  36%|████████████████████▎                                   | 362/1000 [1:41:35<3:25:24, 19.32s/it]"
     ]
    },
    {
     "name": "stdout",
     "output_type": "stream",
     "text": [
      "\n",
      "Failure statistics:\n",
      "structure: 325\n",
      "topic: 25\n",
      "length_short: 86\n",
      "instructions: 4\n",
      "\n"
     ]
    },
    {
     "name": "stderr",
     "output_type": "stream",
     "text": [
      "Generating corpus:  37%|████████████████████▌                                   | 367/1000 [1:42:52<2:42:03, 15.36s/it]"
     ]
    },
    {
     "name": "stdout",
     "output_type": "stream",
     "text": [
      "\n",
      "💾 Checkpoint saved (362/1000 valid texts)\n",
      "Current pass rate: 98.6%\n",
      "Failure statistics:\n",
      "structure: 330\n",
      "topic: 25\n",
      "length_short: 88\n",
      "instructions: 4\n",
      "\n"
     ]
    },
    {
     "name": "stderr",
     "output_type": "stream",
     "text": [
      "Generating corpus:  38%|█████████████████████                                   | 377/1000 [1:45:52<2:56:05, 16.96s/it]"
     ]
    },
    {
     "name": "stdout",
     "output_type": "stream",
     "text": [
      "\n",
      "Failure statistics:\n",
      "structure: 340\n",
      "topic: 25\n",
      "length_short: 91\n",
      "instructions: 4\n",
      "\n",
      "\n",
      "💾 Checkpoint saved (372/1000 valid texts)\n",
      "Current pass rate: 98.7%\n",
      "Failure statistics:\n",
      "structure: 340\n",
      "topic: 25\n",
      "length_short: 91\n",
      "instructions: 4\n",
      "\n"
     ]
    },
    {
     "name": "stderr",
     "output_type": "stream",
     "text": [
      "Generating corpus:  39%|█████████████████████▋                                  | 387/1000 [1:48:46<2:45:51, 16.23s/it]"
     ]
    },
    {
     "name": "stdout",
     "output_type": "stream",
     "text": [
      "\n",
      "💾 Checkpoint saved (382/1000 valid texts)\n",
      "Current pass rate: 98.7%\n",
      "Failure statistics:\n",
      "structure: 350\n",
      "topic: 25\n",
      "length_short: 93\n",
      "instructions: 4\n",
      "\n"
     ]
    },
    {
     "name": "stderr",
     "output_type": "stream",
     "text": [
      "Generating corpus:  40%|██████████████████████▏                                 | 397/1000 [1:52:05<2:44:10, 16.34s/it]"
     ]
    },
    {
     "name": "stdout",
     "output_type": "stream",
     "text": [
      "\n",
      "💾 Checkpoint saved (391/1000 valid texts)\n",
      "Current pass rate: 98.5%\n",
      "Failure statistics:\n",
      "structure: 362\n",
      "topic: 28\n",
      "length_short: 97\n",
      "instructions: 4\n",
      "\n"
     ]
    },
    {
     "name": "stderr",
     "output_type": "stream",
     "text": [
      "Generating corpus:  40%|██████████████████████▌                                 | 404/1000 [1:54:13<3:04:08, 18.54s/it]"
     ]
    },
    {
     "name": "stdout",
     "output_type": "stream",
     "text": [
      "\n",
      "Failure statistics:\n",
      "structure: 369\n",
      "topic: 28\n",
      "length_short: 99\n",
      "instructions: 4\n",
      "\n"
     ]
    },
    {
     "name": "stderr",
     "output_type": "stream",
     "text": [
      "Generating corpus:  41%|██████████████████████▊                                 | 407/1000 [1:55:28<3:19:45, 20.21s/it]"
     ]
    },
    {
     "name": "stdout",
     "output_type": "stream",
     "text": [
      "\n",
      "💾 Checkpoint saved (400/1000 valid texts)\n",
      "Current pass rate: 98.3%\n",
      "Failure statistics:\n",
      "structure: 374\n",
      "topic: 31\n",
      "length_short: 99\n",
      "instructions: 4\n",
      "\n"
     ]
    },
    {
     "name": "stderr",
     "output_type": "stream",
     "text": [
      "Generating corpus:  42%|███████████████████████▎                                | 417/1000 [1:58:22<2:40:06, 16.48s/it]"
     ]
    },
    {
     "name": "stdout",
     "output_type": "stream",
     "text": [
      "\n",
      "💾 Checkpoint saved (410/1000 valid texts)\n",
      "Current pass rate: 98.3%\n",
      "Failure statistics:\n",
      "structure: 384\n",
      "topic: 31\n",
      "length_short: 102\n",
      "instructions: 4\n",
      "\n"
     ]
    },
    {
     "name": "stderr",
     "output_type": "stream",
     "text": [
      "Generating corpus:  43%|███████████████████████▉                                | 427/1000 [2:01:11<2:26:16, 15.32s/it]"
     ]
    },
    {
     "name": "stdout",
     "output_type": "stream",
     "text": [
      "\n",
      "💾 Checkpoint saved (420/1000 valid texts)\n",
      "Current pass rate: 98.4%\n",
      "Failure statistics:\n",
      "structure: 394\n",
      "topic: 31\n",
      "length_short: 103\n",
      "instructions: 4\n",
      "\n"
     ]
    },
    {
     "name": "stderr",
     "output_type": "stream",
     "text": [
      "Generating corpus:  43%|████████████████████████▎                               | 434/1000 [2:03:16<2:27:37, 15.65s/it]"
     ]
    },
    {
     "name": "stdout",
     "output_type": "stream",
     "text": [
      "\n",
      "Failure statistics:\n",
      "structure: 401\n",
      "topic: 31\n",
      "length_short: 104\n",
      "instructions: 4\n",
      "\n"
     ]
    },
    {
     "name": "stderr",
     "output_type": "stream",
     "text": [
      "Generating corpus:  44%|████████████████████████▍                               | 437/1000 [2:04:07<2:33:51, 16.40s/it]"
     ]
    },
    {
     "name": "stdout",
     "output_type": "stream",
     "text": [
      "\n",
      "💾 Checkpoint saved (430/1000 valid texts)\n",
      "Current pass rate: 98.4%\n",
      "Failure statistics:\n",
      "structure: 404\n",
      "topic: 31\n",
      "length_short: 105\n",
      "instructions: 4\n",
      "\n"
     ]
    },
    {
     "name": "stderr",
     "output_type": "stream",
     "text": [
      "Generating corpus:  45%|█████████████████████████                               | 447/1000 [2:08:02<5:07:18, 33.34s/it]"
     ]
    },
    {
     "name": "stdout",
     "output_type": "stream",
     "text": [
      "\n",
      "💾 Checkpoint saved (439/1000 valid texts)\n",
      "Current pass rate: 98.2%\n",
      "Failure statistics:\n",
      "structure: 416\n",
      "topic: 34\n",
      "length_short: 108\n",
      "instructions: 4\n",
      "\n"
     ]
    },
    {
     "name": "stderr",
     "output_type": "stream",
     "text": [
      "Generating corpus:  46%|█████████████████████████▍                              | 455/1000 [2:11:13<3:21:26, 22.18s/it]"
     ]
    },
    {
     "name": "stdout",
     "output_type": "stream",
     "text": [
      "\n",
      "Failure statistics:\n",
      "structure: 427\n",
      "topic: 38\n",
      "length_short: 111\n",
      "instructions: 4\n",
      "\n"
     ]
    },
    {
     "name": "stderr",
     "output_type": "stream",
     "text": [
      "Generating corpus:  46%|█████████████████████████▌                              | 457/1000 [2:11:55<3:24:52, 22.64s/it]"
     ]
    },
    {
     "name": "stdout",
     "output_type": "stream",
     "text": [
      "\n",
      "💾 Checkpoint saved (448/1000 valid texts)\n",
      "Current pass rate: 98.0%\n",
      "Failure statistics:\n",
      "structure: 429\n",
      "topic: 38\n",
      "length_short: 111\n",
      "instructions: 4\n",
      "\n"
     ]
    },
    {
     "name": "stderr",
     "output_type": "stream",
     "text": [
      "Generating corpus:  47%|██████████████████████████▏                             | 467/1000 [2:14:37<2:02:36, 13.80s/it]"
     ]
    },
    {
     "name": "stdout",
     "output_type": "stream",
     "text": [
      "\n",
      "💾 Checkpoint saved (458/1000 valid texts)\n",
      "Current pass rate: 98.1%\n",
      "Failure statistics:\n",
      "structure: 439\n",
      "topic: 38\n",
      "length_short: 113\n",
      "instructions: 4\n",
      "\n"
     ]
    },
    {
     "name": "stderr",
     "output_type": "stream",
     "text": [
      "Generating corpus:  47%|██████████████████████████▍                             | 472/1000 [2:16:05<2:30:17, 17.08s/it]"
     ]
    },
    {
     "name": "stdout",
     "output_type": "stream",
     "text": [
      "\n",
      "Failure statistics:\n",
      "structure: 444\n",
      "topic: 38\n",
      "length_short: 114\n",
      "instructions: 4\n",
      "\n"
     ]
    },
    {
     "name": "stderr",
     "output_type": "stream",
     "text": [
      "Generating corpus:  48%|██████████████████████████▋                             | 477/1000 [2:17:31<2:34:33, 17.73s/it]"
     ]
    },
    {
     "name": "stdout",
     "output_type": "stream",
     "text": [
      "\n",
      "💾 Checkpoint saved (468/1000 valid texts)\n",
      "Current pass rate: 98.1%\n",
      "Failure statistics:\n",
      "structure: 450\n",
      "topic: 39\n",
      "length_short: 118\n",
      "instructions: 4\n",
      "\n"
     ]
    },
    {
     "name": "stderr",
     "output_type": "stream",
     "text": [
      "Generating corpus:  48%|███████████████████████████                             | 484/1000 [2:19:34<2:24:03, 16.75s/it]"
     ]
    },
    {
     "name": "stdout",
     "output_type": "stream",
     "text": [
      "\n",
      "Failure statistics:\n",
      "structure: 457\n",
      "topic: 39\n",
      "length_short: 120\n",
      "instructions: 4\n",
      "\n"
     ]
    },
    {
     "name": "stderr",
     "output_type": "stream",
     "text": [
      "Generating corpus:  49%|███████████████████████████▎                            | 487/1000 [2:20:18<2:12:20, 15.48s/it]"
     ]
    },
    {
     "name": "stdout",
     "output_type": "stream",
     "text": [
      "\n",
      "💾 Checkpoint saved (478/1000 valid texts)\n",
      "Current pass rate: 98.2%\n",
      "Failure statistics:\n",
      "structure: 460\n",
      "topic: 39\n",
      "length_short: 120\n",
      "instructions: 4\n",
      "\n"
     ]
    },
    {
     "name": "stderr",
     "output_type": "stream",
     "text": [
      "Generating corpus:  50%|███████████████████████████▊                            | 497/1000 [2:23:01<2:09:40, 15.47s/it]"
     ]
    },
    {
     "name": "stdout",
     "output_type": "stream",
     "text": [
      "\n",
      "💾 Checkpoint saved (488/1000 valid texts)\n",
      "Current pass rate: 98.2%\n",
      "Failure statistics:\n",
      "structure: 470\n",
      "topic: 39\n",
      "length_short: 125\n",
      "instructions: 4\n",
      "\n"
     ]
    },
    {
     "name": "stderr",
     "output_type": "stream",
     "text": [
      "Generating corpus:  50%|███████████████████████████▉                            | 498/1000 [2:23:31<2:43:49, 19.58s/it]"
     ]
    },
    {
     "name": "stdout",
     "output_type": "stream",
     "text": [
      "\n",
      "Failure statistics:\n",
      "structure: 471\n",
      "topic: 39\n",
      "length_short: 126\n",
      "instructions: 4\n",
      "\n"
     ]
    },
    {
     "name": "stderr",
     "output_type": "stream",
     "text": [
      "Generating corpus:  51%|████████████████████████████▍                           | 507/1000 [2:25:54<2:13:58, 16.31s/it]"
     ]
    },
    {
     "name": "stdout",
     "output_type": "stream",
     "text": [
      "\n",
      "💾 Checkpoint saved (498/1000 valid texts)\n",
      "Current pass rate: 98.2%\n",
      "Failure statistics:\n",
      "structure: 480\n",
      "topic: 39\n",
      "length_short: 127\n",
      "instructions: 4\n",
      "\n"
     ]
    },
    {
     "name": "stderr",
     "output_type": "stream",
     "text": [
      "Generating corpus:  52%|████████████████████████████▉                           | 517/1000 [2:28:37<1:50:27, 13.72s/it]"
     ]
    },
    {
     "name": "stdout",
     "output_type": "stream",
     "text": [
      "\n",
      "💾 Checkpoint saved (508/1000 valid texts)\n",
      "Current pass rate: 98.3%\n",
      "Failure statistics:\n",
      "structure: 490\n",
      "topic: 39\n",
      "length_short: 129\n",
      "instructions: 4\n",
      "\n"
     ]
    },
    {
     "name": "stderr",
     "output_type": "stream",
     "text": [
      "Generating corpus:  53%|█████████████████████████████▌                          | 527/1000 [2:31:54<3:13:08, 24.50s/it]"
     ]
    },
    {
     "name": "stdout",
     "output_type": "stream",
     "text": [
      "\n",
      "💾 Checkpoint saved (518/1000 valid texts)\n",
      "Current pass rate: 98.3%\n",
      "Failure statistics:\n",
      "structure: 501\n",
      "topic: 40\n",
      "length_short: 134\n",
      "instructions: 4\n",
      "\n"
     ]
    },
    {
     "name": "stderr",
     "output_type": "stream",
     "text": [
      "Generating corpus:  54%|██████████████████████████████                          | 537/1000 [2:34:42<2:05:32, 16.27s/it]"
     ]
    },
    {
     "name": "stdout",
     "output_type": "stream",
     "text": [
      "\n",
      "💾 Checkpoint saved (528/1000 valid texts)\n",
      "Current pass rate: 98.3%\n",
      "Failure statistics:\n",
      "structure: 511\n",
      "topic: 40\n",
      "length_short: 137\n",
      "instructions: 4\n",
      "\n"
     ]
    },
    {
     "name": "stderr",
     "output_type": "stream",
     "text": [
      "Generating corpus:  54%|██████████████████████████████▍                         | 543/1000 [2:36:19<1:50:18, 14.48s/it]"
     ]
    },
    {
     "name": "stdout",
     "output_type": "stream",
     "text": [
      "\n",
      "Failure statistics:\n",
      "structure: 517\n",
      "topic: 40\n",
      "length_short: 139\n",
      "instructions: 4\n",
      "\n"
     ]
    },
    {
     "name": "stderr",
     "output_type": "stream",
     "text": [
      "Generating corpus:  55%|██████████████████████████████▋                         | 547/1000 [2:37:28<1:52:58, 14.96s/it]"
     ]
    },
    {
     "name": "stdout",
     "output_type": "stream",
     "text": [
      "\n",
      "💾 Checkpoint saved (538/1000 valid texts)\n",
      "Current pass rate: 98.4%\n",
      "Failure statistics:\n",
      "structure: 521\n",
      "topic: 40\n",
      "length_short: 139\n",
      "instructions: 4\n",
      "\n"
     ]
    },
    {
     "name": "stderr",
     "output_type": "stream",
     "text": [
      "Generating corpus:  56%|███████████████████████████████▏                        | 557/1000 [2:40:15<2:02:40, 16.62s/it]"
     ]
    },
    {
     "name": "stdout",
     "output_type": "stream",
     "text": [
      "\n",
      "💾 Checkpoint saved (548/1000 valid texts)\n",
      "Current pass rate: 98.4%\n",
      "Failure statistics:\n",
      "structure: 531\n",
      "topic: 40\n",
      "length_short: 141\n",
      "instructions: 5\n",
      "\n"
     ]
    },
    {
     "name": "stderr",
     "output_type": "stream",
     "text": [
      "Generating corpus:  56%|███████████████████████████████▏                        | 558/1000 [2:40:54<2:50:52, 23.20s/it]"
     ]
    },
    {
     "name": "stdout",
     "output_type": "stream",
     "text": [
      "\n",
      "Failure statistics:\n",
      "structure: 533\n",
      "topic: 41\n",
      "length_short: 141\n",
      "instructions: 5\n",
      "\n"
     ]
    },
    {
     "name": "stderr",
     "output_type": "stream",
     "text": [
      "Generating corpus:  57%|███████████████████████████████▊                        | 567/1000 [2:45:09<4:59:56, 41.56s/it]"
     ]
    },
    {
     "name": "stdout",
     "output_type": "stream",
     "text": [
      "\n",
      "💾 Checkpoint saved (558/1000 valid texts)\n",
      "Current pass rate: 98.4%\n",
      "Failure statistics:\n",
      "structure: 545\n",
      "topic: 44\n",
      "length_short: 143\n",
      "instructions: 5\n",
      "\n"
     ]
    },
    {
     "name": "stderr",
     "output_type": "stream",
     "text": [
      "Generating corpus:  57%|███████████████████████████████▊                        | 569/1000 [2:45:42<3:18:55, 27.69s/it]"
     ]
    },
    {
     "name": "stdout",
     "output_type": "stream",
     "text": [
      "\n",
      "Failure statistics:\n",
      "structure: 547\n",
      "topic: 44\n",
      "length_short: 144\n",
      "instructions: 5\n",
      "\n"
     ]
    },
    {
     "name": "stderr",
     "output_type": "stream",
     "text": [
      "Generating corpus:  58%|████████████████████████████████▎                       | 577/1000 [2:47:48<1:37:38, 13.85s/it]"
     ]
    },
    {
     "name": "stdout",
     "output_type": "stream",
     "text": [
      "\n",
      "💾 Checkpoint saved (568/1000 valid texts)\n",
      "Current pass rate: 98.4%\n",
      "Failure statistics:\n",
      "structure: 555\n",
      "topic: 44\n",
      "length_short: 145\n",
      "instructions: 5\n",
      "\n"
     ]
    },
    {
     "name": "stderr",
     "output_type": "stream",
     "text": [
      "Generating corpus:  59%|████████████████████████████████▊                       | 586/1000 [2:50:38<2:09:28, 18.77s/it]"
     ]
    },
    {
     "name": "stdout",
     "output_type": "stream",
     "text": [
      "\n",
      "Failure statistics:\n",
      "structure: 564\n",
      "topic: 44\n",
      "length_short: 147\n",
      "instructions: 5\n",
      "\n"
     ]
    },
    {
     "name": "stderr",
     "output_type": "stream",
     "text": [
      "Generating corpus:  59%|████████████████████████████████▊                       | 587/1000 [2:50:45<1:44:40, 15.21s/it]"
     ]
    },
    {
     "name": "stdout",
     "output_type": "stream",
     "text": [
      "\n",
      "💾 Checkpoint saved (578/1000 valid texts)\n",
      "Current pass rate: 98.5%\n",
      "Failure statistics:\n",
      "structure: 565\n",
      "topic: 44\n",
      "length_short: 147\n",
      "instructions: 5\n",
      "\n"
     ]
    },
    {
     "name": "stderr",
     "output_type": "stream",
     "text": [
      "Generating corpus:  60%|█████████████████████████████████▍                      | 597/1000 [2:53:35<1:54:04, 16.98s/it]"
     ]
    },
    {
     "name": "stdout",
     "output_type": "stream",
     "text": [
      "\n",
      "💾 Checkpoint saved (588/1000 valid texts)\n",
      "Current pass rate: 98.5%\n",
      "Failure statistics:\n",
      "structure: 575\n",
      "topic: 44\n",
      "length_short: 151\n",
      "instructions: 6\n",
      "\n"
     ]
    },
    {
     "name": "stderr",
     "output_type": "stream",
     "text": [
      "Generating corpus:  60%|█████████████████████████████████▍                      | 598/1000 [2:54:01<2:10:29, 19.48s/it]"
     ]
    },
    {
     "name": "stdout",
     "output_type": "stream",
     "text": [
      "\n",
      "Failure statistics:\n",
      "structure: 577\n",
      "topic: 45\n",
      "length_short: 152\n",
      "instructions: 6\n",
      "\n"
     ]
    },
    {
     "name": "stderr",
     "output_type": "stream",
     "text": [
      "Generating corpus:  61%|█████████████████████████████████▉                      | 607/1000 [2:56:37<1:26:56, 13.27s/it]"
     ]
    },
    {
     "name": "stdout",
     "output_type": "stream",
     "text": [
      "\n",
      "💾 Checkpoint saved (598/1000 valid texts)\n",
      "Current pass rate: 98.5%\n",
      "Failure statistics:\n",
      "structure: 587\n",
      "topic: 46\n",
      "length_short: 157\n",
      "instructions: 6\n",
      "\n"
     ]
    },
    {
     "name": "stderr",
     "output_type": "stream",
     "text": [
      "Generating corpus:  61%|██████████████████████████████████▏                     | 610/1000 [2:57:36<1:49:37, 16.86s/it]"
     ]
    },
    {
     "name": "stdout",
     "output_type": "stream",
     "text": [
      "\n",
      "Failure statistics:\n",
      "structure: 590\n",
      "topic: 46\n",
      "length_short: 158\n",
      "instructions: 6\n",
      "\n"
     ]
    },
    {
     "name": "stderr",
     "output_type": "stream",
     "text": [
      "Generating corpus:  62%|██████████████████████████████████▌                     | 617/1000 [2:59:29<1:52:20, 17.60s/it]"
     ]
    },
    {
     "name": "stdout",
     "output_type": "stream",
     "text": [
      "\n",
      "💾 Checkpoint saved (608/1000 valid texts)\n",
      "Current pass rate: 98.5%\n",
      "Failure statistics:\n",
      "structure: 597\n",
      "topic: 46\n",
      "length_short: 160\n",
      "instructions: 6\n",
      "\n"
     ]
    },
    {
     "name": "stderr",
     "output_type": "stream",
     "text": [
      "Generating corpus:  63%|███████████████████████████████████                     | 627/1000 [3:02:07<1:32:25, 14.87s/it]"
     ]
    },
    {
     "name": "stdout",
     "output_type": "stream",
     "text": [
      "\n",
      "💾 Checkpoint saved (618/1000 valid texts)\n",
      "Current pass rate: 98.6%\n",
      "Failure statistics:\n",
      "structure: 607\n",
      "topic: 46\n",
      "length_short: 163\n",
      "instructions: 7\n",
      "\n"
     ]
    },
    {
     "name": "stderr",
     "output_type": "stream",
     "text": [
      "Generating corpus:  64%|███████████████████████████████████▋                    | 637/1000 [3:05:14<1:58:31, 19.59s/it]"
     ]
    },
    {
     "name": "stdout",
     "output_type": "stream",
     "text": [
      "\n",
      "💾 Checkpoint saved (628/1000 valid texts)\n",
      "Current pass rate: 98.6%\n",
      "Failure statistics:\n",
      "structure: 617\n",
      "topic: 46\n",
      "length_short: 164\n",
      "instructions: 7\n",
      "\n"
     ]
    },
    {
     "name": "stderr",
     "output_type": "stream",
     "text": [
      "Generating corpus:  64%|███████████████████████████████████▉                    | 641/1000 [3:06:45<2:04:59, 20.89s/it]"
     ]
    },
    {
     "name": "stdout",
     "output_type": "stream",
     "text": [
      "\n",
      "Failure statistics:\n",
      "structure: 622\n",
      "topic: 47\n",
      "length_short: 164\n",
      "instructions: 7\n",
      "\n"
     ]
    },
    {
     "name": "stderr",
     "output_type": "stream",
     "text": [
      "Generating corpus:  65%|████████████████████████████████████▏                   | 647/1000 [3:08:13<1:27:46, 14.92s/it]"
     ]
    },
    {
     "name": "stdout",
     "output_type": "stream",
     "text": [
      "\n",
      "💾 Checkpoint saved (638/1000 valid texts)\n",
      "Current pass rate: 98.6%\n",
      "Failure statistics:\n",
      "structure: 628\n",
      "topic: 47\n",
      "length_short: 167\n",
      "instructions: 7\n",
      "\n"
     ]
    },
    {
     "name": "stderr",
     "output_type": "stream",
     "text": [
      "Generating corpus:  66%|████████████████████████████████████▊                   | 657/1000 [3:10:59<1:21:58, 14.34s/it]"
     ]
    },
    {
     "name": "stdout",
     "output_type": "stream",
     "text": [
      "\n",
      "Failure statistics:\n",
      "structure: 638\n",
      "topic: 47\n",
      "length_short: 168\n",
      "instructions: 7\n",
      "\n",
      "\n",
      "💾 Checkpoint saved (648/1000 valid texts)\n",
      "Current pass rate: 98.6%\n",
      "Failure statistics:\n",
      "structure: 638\n",
      "topic: 47\n",
      "length_short: 168\n",
      "instructions: 7\n",
      "\n"
     ]
    },
    {
     "name": "stderr",
     "output_type": "stream",
     "text": [
      "Generating corpus:  67%|█████████████████████████████████████▎                  | 667/1000 [3:13:46<1:19:50, 14.39s/it]"
     ]
    },
    {
     "name": "stdout",
     "output_type": "stream",
     "text": [
      "\n",
      "💾 Checkpoint saved (658/1000 valid texts)\n",
      "Current pass rate: 98.7%\n",
      "Failure statistics:\n",
      "structure: 648\n",
      "topic: 47\n",
      "length_short: 169\n",
      "instructions: 7\n",
      "\n"
     ]
    },
    {
     "name": "stderr",
     "output_type": "stream",
     "text": [
      "Generating corpus:  68%|█████████████████████████████████████▊                  | 675/1000 [3:16:03<1:16:33, 14.13s/it]"
     ]
    },
    {
     "name": "stdout",
     "output_type": "stream",
     "text": [
      "\n",
      "Failure statistics:\n",
      "structure: 656\n",
      "topic: 47\n",
      "length_short: 170\n",
      "instructions: 7\n",
      "\n"
     ]
    },
    {
     "name": "stderr",
     "output_type": "stream",
     "text": [
      "Generating corpus:  68%|█████████████████████████████████████▉                  | 677/1000 [3:16:35<1:16:13, 14.16s/it]"
     ]
    },
    {
     "name": "stdout",
     "output_type": "stream",
     "text": [
      "\n",
      "💾 Checkpoint saved (668/1000 valid texts)\n",
      "Current pass rate: 98.7%\n",
      "Failure statistics:\n",
      "structure: 658\n",
      "topic: 47\n",
      "length_short: 171\n",
      "instructions: 7\n",
      "\n"
     ]
    },
    {
     "name": "stderr",
     "output_type": "stream",
     "text": [
      "Generating corpus:  69%|██████████████████████████████████████▍                 | 687/1000 [3:19:17<1:15:02, 14.39s/it]"
     ]
    },
    {
     "name": "stdout",
     "output_type": "stream",
     "text": [
      "\n",
      "💾 Checkpoint saved (678/1000 valid texts)\n",
      "Current pass rate: 98.7%\n",
      "Failure statistics:\n",
      "structure: 668\n",
      "topic: 47\n",
      "length_short: 172\n",
      "instructions: 7\n",
      "\n"
     ]
    },
    {
     "name": "stderr",
     "output_type": "stream",
     "text": [
      "Generating corpus:  69%|██████████████████████████████████████▊                 | 692/1000 [3:20:37<1:13:00, 14.22s/it]"
     ]
    },
    {
     "name": "stdout",
     "output_type": "stream",
     "text": [
      "\n",
      "Failure statistics:\n",
      "structure: 673\n",
      "topic: 47\n",
      "length_short: 173\n",
      "instructions: 7\n",
      "\n"
     ]
    },
    {
     "name": "stderr",
     "output_type": "stream",
     "text": [
      "Generating corpus:  70%|███████████████████████████████████████                 | 697/1000 [3:22:27<2:01:51, 24.13s/it]"
     ]
    },
    {
     "name": "stdout",
     "output_type": "stream",
     "text": [
      "\n",
      "💾 Checkpoint saved (688/1000 valid texts)\n",
      "Current pass rate: 98.7%\n",
      "Failure statistics:\n",
      "structure: 679\n",
      "topic: 48\n",
      "length_short: 176\n",
      "instructions: 7\n",
      "\n"
     ]
    },
    {
     "name": "stderr",
     "output_type": "stream",
     "text": [
      "Generating corpus:  70%|███████████████████████████████████████▍                | 705/1000 [3:24:34<1:13:45, 15.00s/it]"
     ]
    },
    {
     "name": "stdout",
     "output_type": "stream",
     "text": [
      "\n",
      "Failure statistics:\n",
      "structure: 687\n",
      "topic: 48\n",
      "length_short: 178\n",
      "instructions: 7\n",
      "\n"
     ]
    },
    {
     "name": "stderr",
     "output_type": "stream",
     "text": [
      "Generating corpus:  71%|███████████████████████████████████████▌                | 707/1000 [3:25:03<1:08:00, 13.93s/it]"
     ]
    },
    {
     "name": "stdout",
     "output_type": "stream",
     "text": [
      "\n",
      "💾 Checkpoint saved (698/1000 valid texts)\n",
      "Current pass rate: 98.7%\n",
      "Failure statistics:\n",
      "structure: 689\n",
      "topic: 48\n",
      "length_short: 178\n",
      "instructions: 7\n",
      "\n"
     ]
    },
    {
     "name": "stderr",
     "output_type": "stream",
     "text": [
      "Generating corpus:  71%|███████████████████████████████████████▋                | 708/1000 [3:25:34<1:32:43, 19.05s/it]"
     ]
    },
    {
     "name": "stdout",
     "output_type": "stream",
     "text": [
      "Error in DeepSeek API call: Response ended prematurely\n"
     ]
    },
    {
     "name": "stderr",
     "output_type": "stream",
     "text": [
      "Generating corpus:  72%|████████████████████████████████████████▏               | 717/1000 [3:28:12<1:26:37, 18.37s/it]"
     ]
    },
    {
     "name": "stdout",
     "output_type": "stream",
     "text": [
      "\n",
      "💾 Checkpoint saved (708/1000 valid texts)\n",
      "Current pass rate: 98.7%\n",
      "Failure statistics:\n",
      "structure: 699\n",
      "topic: 48\n",
      "length_short: 182\n",
      "instructions: 7\n",
      "\n"
     ]
    },
    {
     "name": "stderr",
     "output_type": "stream",
     "text": [
      "Generating corpus:  73%|████████████████████████████████████████▋               | 727/1000 [3:30:53<1:21:30, 17.92s/it]"
     ]
    },
    {
     "name": "stdout",
     "output_type": "stream",
     "text": [
      "\n",
      "💾 Checkpoint saved (718/1000 valid texts)\n",
      "Current pass rate: 98.8%\n",
      "Failure statistics:\n",
      "structure: 709\n",
      "topic: 48\n",
      "length_short: 186\n",
      "instructions: 7\n",
      "\n"
     ]
    },
    {
     "name": "stderr",
     "output_type": "stream",
     "text": [
      "Generating corpus:  74%|█████████████████████████████████████████▎              | 737/1000 [3:34:37<1:14:05, 16.90s/it]"
     ]
    },
    {
     "name": "stdout",
     "output_type": "stream",
     "text": [
      "\n",
      "💾 Checkpoint saved (728/1000 valid texts)\n",
      "Current pass rate: 98.8%\n",
      "Failure statistics:\n",
      "structure: 722\n",
      "topic: 51\n",
      "length_short: 188\n",
      "instructions: 7\n",
      "\n"
     ]
    },
    {
     "name": "stderr",
     "output_type": "stream",
     "text": [
      "Generating corpus:  75%|█████████████████████████████████████████▊              | 747/1000 [3:37:24<1:14:22, 17.64s/it]"
     ]
    },
    {
     "name": "stdout",
     "output_type": "stream",
     "text": [
      "\n",
      "💾 Checkpoint saved (738/1000 valid texts)\n",
      "Current pass rate: 98.8%\n",
      "Failure statistics:\n",
      "structure: 732\n",
      "topic: 51\n",
      "length_short: 192\n",
      "instructions: 7\n",
      "\n"
     ]
    },
    {
     "name": "stderr",
     "output_type": "stream",
     "text": [
      "Generating corpus:  76%|██████████████████████████████████████████▍             | 757/1000 [3:40:15<1:06:42, 16.47s/it]"
     ]
    },
    {
     "name": "stdout",
     "output_type": "stream",
     "text": [
      "\n",
      "💾 Checkpoint saved (748/1000 valid texts)\n",
      "Current pass rate: 98.8%\n",
      "Failure statistics:\n",
      "structure: 742\n",
      "topic: 51\n",
      "length_short: 192\n",
      "instructions: 8\n",
      "\n"
     ]
    },
    {
     "name": "stderr",
     "output_type": "stream",
     "text": [
      "Generating corpus:  77%|██████████████████████████████████████████▉             | 767/1000 [3:42:58<1:04:21, 16.57s/it]"
     ]
    },
    {
     "name": "stdout",
     "output_type": "stream",
     "text": [
      "\n",
      "💾 Checkpoint saved (758/1000 valid texts)\n",
      "Current pass rate: 98.8%\n",
      "Failure statistics:\n",
      "structure: 752\n",
      "topic: 51\n",
      "length_short: 196\n",
      "instructions: 9\n",
      "\n"
     ]
    },
    {
     "name": "stderr",
     "output_type": "stream",
     "text": [
      "Generating corpus:  78%|█████████████████████████████████████████████             | 776/1000 [3:45:42<57:37, 15.43s/it]"
     ]
    },
    {
     "name": "stdout",
     "output_type": "stream",
     "text": [
      "\n",
      "Failure statistics:\n",
      "structure: 762\n",
      "topic: 51\n",
      "length_short: 197\n",
      "instructions: 10\n",
      "\n"
     ]
    },
    {
     "name": "stderr",
     "output_type": "stream",
     "text": [
      "Generating corpus:  78%|███████████████████████████████████████████▌            | 777/1000 [3:46:07<1:07:55, 18.28s/it]"
     ]
    },
    {
     "name": "stdout",
     "output_type": "stream",
     "text": [
      "\n",
      "💾 Checkpoint saved (768/1000 valid texts)\n",
      "Current pass rate: 98.8%\n",
      "Failure statistics:\n",
      "structure: 763\n",
      "topic: 51\n",
      "length_short: 197\n",
      "instructions: 10\n",
      "\n"
     ]
    },
    {
     "name": "stderr",
     "output_type": "stream",
     "text": [
      "Generating corpus:  79%|████████████████████████████████████████████            | 787/1000 [3:50:01<1:27:53, 24.76s/it]"
     ]
    },
    {
     "name": "stdout",
     "output_type": "stream",
     "text": [
      "\n",
      "💾 Checkpoint saved (777/1000 valid texts)\n",
      "Current pass rate: 98.7%\n",
      "Failure statistics:\n",
      "structure: 776\n",
      "topic: 55\n",
      "length_short: 200\n",
      "instructions: 10\n",
      "\n"
     ]
    },
    {
     "name": "stderr",
     "output_type": "stream",
     "text": [
      "Generating corpus:  79%|████████████████████████████████████████████▏           | 789/1000 [3:50:36<1:09:59, 19.90s/it]"
     ]
    },
    {
     "name": "stdout",
     "output_type": "stream",
     "text": [
      "Error in DeepSeek API call: Response ended prematurely\n"
     ]
    },
    {
     "name": "stderr",
     "output_type": "stream",
     "text": [
      "Generating corpus:  80%|██████████████████████████████████████████████▏           | 797/1000 [3:53:03<56:03, 16.57s/it]"
     ]
    },
    {
     "name": "stdout",
     "output_type": "stream",
     "text": [
      "\n",
      "💾 Checkpoint saved (787/1000 valid texts)\n",
      "Current pass rate: 98.7%\n",
      "Failure statistics:\n",
      "structure: 786\n",
      "topic: 55\n",
      "length_short: 204\n",
      "instructions: 10\n",
      "\n"
     ]
    },
    {
     "name": "stderr",
     "output_type": "stream",
     "text": [
      "Generating corpus:  80%|████████████████████████████████████████████▉           | 802/1000 [3:54:38<1:03:13, 19.16s/it]"
     ]
    },
    {
     "name": "stdout",
     "output_type": "stream",
     "text": [
      "\n",
      "Failure statistics:\n",
      "structure: 791\n",
      "topic: 55\n",
      "length_short: 204\n",
      "instructions: 10\n",
      "\n"
     ]
    },
    {
     "name": "stderr",
     "output_type": "stream",
     "text": [
      "Generating corpus:  81%|██████████████████████████████████████████████▊           | 807/1000 [3:55:49<46:40, 14.51s/it]"
     ]
    },
    {
     "name": "stdout",
     "output_type": "stream",
     "text": [
      "\n",
      "💾 Checkpoint saved (797/1000 valid texts)\n",
      "Current pass rate: 98.8%\n",
      "Failure statistics:\n",
      "structure: 796\n",
      "topic: 55\n",
      "length_short: 205\n",
      "instructions: 10\n",
      "\n"
     ]
    },
    {
     "name": "stderr",
     "output_type": "stream",
     "text": [
      "Generating corpus:  82%|███████████████████████████████████████████████▎          | 816/1000 [3:58:44<56:33, 18.44s/it]"
     ]
    },
    {
     "name": "stdout",
     "output_type": "stream",
     "text": [
      "\n",
      "Failure statistics:\n",
      "structure: 806\n",
      "topic: 56\n",
      "length_short: 207\n",
      "instructions: 11\n",
      "\n"
     ]
    },
    {
     "name": "stderr",
     "output_type": "stream",
     "text": [
      "Generating corpus:  82%|███████████████████████████████████████████████▍          | 817/1000 [3:59:02<56:03, 18.38s/it]"
     ]
    },
    {
     "name": "stdout",
     "output_type": "stream",
     "text": [
      "\n",
      "💾 Checkpoint saved (807/1000 valid texts)\n",
      "Current pass rate: 98.8%\n",
      "Failure statistics:\n",
      "structure: 807\n",
      "topic: 56\n",
      "length_short: 208\n",
      "instructions: 11\n",
      "\n"
     ]
    },
    {
     "name": "stderr",
     "output_type": "stream",
     "text": [
      "Generating corpus:  83%|███████████████████████████████████████████████▉          | 827/1000 [4:01:43<40:15, 13.96s/it]"
     ]
    },
    {
     "name": "stdout",
     "output_type": "stream",
     "text": [
      "\n",
      "💾 Checkpoint saved (817/1000 valid texts)\n",
      "Current pass rate: 98.8%\n",
      "Failure statistics:\n",
      "structure: 817\n",
      "topic: 56\n",
      "length_short: 210\n",
      "instructions: 11\n",
      "\n"
     ]
    },
    {
     "name": "stderr",
     "output_type": "stream",
     "text": [
      "Generating corpus:  83%|████████████████████████████████████████████████▎         | 832/1000 [4:03:10<43:48, 15.65s/it]"
     ]
    },
    {
     "name": "stdout",
     "output_type": "stream",
     "text": [
      "\n",
      "Failure statistics:\n",
      "structure: 822\n",
      "topic: 56\n",
      "length_short: 211\n",
      "instructions: 11\n",
      "\n"
     ]
    },
    {
     "name": "stderr",
     "output_type": "stream",
     "text": [
      "Generating corpus:  84%|██████████████████████████████████████████████▊         | 837/1000 [4:05:09<1:05:05, 23.96s/it]"
     ]
    },
    {
     "name": "stdout",
     "output_type": "stream",
     "text": [
      "\n",
      "💾 Checkpoint saved (826/1000 valid texts)\n",
      "Current pass rate: 98.7%\n",
      "Failure statistics:\n",
      "structure: 829\n",
      "topic: 59\n",
      "length_short: 211\n",
      "instructions: 11\n",
      "\n"
     ]
    },
    {
     "name": "stderr",
     "output_type": "stream",
     "text": [
      "Generating corpus:  84%|████████████████████████████████████████████████▉         | 844/1000 [4:07:13<47:54, 18.43s/it]"
     ]
    },
    {
     "name": "stdout",
     "output_type": "stream",
     "text": [
      "\n",
      "Failure statistics:\n",
      "structure: 837\n",
      "topic: 59\n",
      "length_short: 213\n",
      "instructions: 11\n",
      "\n"
     ]
    },
    {
     "name": "stderr",
     "output_type": "stream",
     "text": [
      "Generating corpus:  85%|█████████████████████████████████████████████████▏        | 847/1000 [4:07:50<36:53, 14.47s/it]"
     ]
    },
    {
     "name": "stdout",
     "output_type": "stream",
     "text": [
      "\n",
      "💾 Checkpoint saved (836/1000 valid texts)\n",
      "Current pass rate: 98.7%\n",
      "Failure statistics:\n",
      "structure: 839\n",
      "topic: 59\n",
      "length_short: 214\n",
      "instructions: 11\n",
      "\n"
     ]
    },
    {
     "name": "stderr",
     "output_type": "stream",
     "text": [
      "Generating corpus:  86%|█████████████████████████████████████████████████▌        | 855/1000 [4:09:52<31:34, 13.07s/it]"
     ]
    },
    {
     "name": "stdout",
     "output_type": "stream",
     "text": [
      "Error in DeepSeek API call: Response ended prematurely\n"
     ]
    },
    {
     "name": "stderr",
     "output_type": "stream",
     "text": [
      "Generating corpus:  86%|█████████████████████████████████████████████████▋        | 857/1000 [4:10:24<31:33, 13.24s/it]"
     ]
    },
    {
     "name": "stdout",
     "output_type": "stream",
     "text": [
      "\n",
      "💾 Checkpoint saved (846/1000 valid texts)\n",
      "Current pass rate: 98.7%\n",
      "Failure statistics:\n",
      "structure: 849\n",
      "topic: 59\n",
      "length_short: 217\n",
      "instructions: 11\n",
      "\n"
     ]
    },
    {
     "name": "stderr",
     "output_type": "stream",
     "text": [
      "Generating corpus:  86%|█████████████████████████████████████████████████▊        | 859/1000 [4:11:00<34:13, 14.56s/it]"
     ]
    },
    {
     "name": "stdout",
     "output_type": "stream",
     "text": [
      "\n",
      "Failure statistics:\n",
      "structure: 852\n",
      "topic: 60\n",
      "length_short: 217\n",
      "instructions: 11\n",
      "\n"
     ]
    },
    {
     "name": "stderr",
     "output_type": "stream",
     "text": [
      "Generating corpus:  87%|██████████████████████████████████████████████████▎       | 867/1000 [4:13:39<30:26, 13.73s/it]"
     ]
    },
    {
     "name": "stdout",
     "output_type": "stream",
     "text": [
      "\n",
      "💾 Checkpoint saved (855/1000 valid texts)\n",
      "Current pass rate: 98.6%\n",
      "Failure statistics:\n",
      "structure: 861\n",
      "topic: 62\n",
      "length_short: 219\n",
      "instructions: 11\n",
      "\n"
     ]
    },
    {
     "name": "stderr",
     "output_type": "stream",
     "text": [
      "Generating corpus:  87%|██████████████████████████████████████████████████▌       | 872/1000 [4:15:12<39:09, 18.36s/it]"
     ]
    },
    {
     "name": "stdout",
     "output_type": "stream",
     "text": [
      "\n",
      "Failure statistics:\n",
      "structure: 866\n",
      "topic: 62\n",
      "length_short: 221\n",
      "instructions: 11\n",
      "\n"
     ]
    },
    {
     "name": "stderr",
     "output_type": "stream",
     "text": [
      "Generating corpus:  88%|██████████████████████████████████████████████████▊       | 877/1000 [4:16:26<32:57, 16.08s/it]"
     ]
    },
    {
     "name": "stdout",
     "output_type": "stream",
     "text": [
      "\n",
      "💾 Checkpoint saved (865/1000 valid texts)\n",
      "Current pass rate: 98.6%\n",
      "Failure statistics:\n",
      "structure: 871\n",
      "topic: 62\n",
      "length_short: 222\n",
      "instructions: 11\n",
      "\n"
     ]
    },
    {
     "name": "stderr",
     "output_type": "stream",
     "text": [
      "Generating corpus:  89%|███████████████████████████████████████████████████▍      | 887/1000 [4:19:11<30:04, 15.96s/it]"
     ]
    },
    {
     "name": "stdout",
     "output_type": "stream",
     "text": [
      "\n",
      "💾 Checkpoint saved (875/1000 valid texts)\n",
      "Current pass rate: 98.6%\n",
      "Failure statistics:\n",
      "structure: 881\n",
      "topic: 62\n",
      "length_short: 225\n",
      "instructions: 11\n",
      "\n"
     ]
    },
    {
     "name": "stderr",
     "output_type": "stream",
     "text": [
      "Generating corpus:  90%|████████████████████████████████████████████████████      | 897/1000 [4:22:48<29:04, 16.94s/it]"
     ]
    },
    {
     "name": "stdout",
     "output_type": "stream",
     "text": [
      "\n",
      "💾 Checkpoint saved (885/1000 valid texts)\n",
      "Current pass rate: 98.7%\n",
      "Failure statistics:\n",
      "structure: 894\n",
      "topic: 65\n",
      "length_short: 228\n",
      "instructions: 11\n",
      "\n"
     ]
    },
    {
     "name": "stderr",
     "output_type": "stream",
     "text": [
      "Generating corpus:  90%|████████████████████████████████████████████████████▏     | 899/1000 [4:23:23<26:38, 15.82s/it]"
     ]
    },
    {
     "name": "stdout",
     "output_type": "stream",
     "text": [
      "\n",
      "Failure statistics:\n",
      "structure: 896\n",
      "topic: 65\n",
      "length_short: 228\n",
      "instructions: 11\n",
      "\n"
     ]
    },
    {
     "name": "stderr",
     "output_type": "stream",
     "text": [
      "Generating corpus:  91%|████████████████████████████████████████████████████▌     | 907/1000 [4:26:03<32:10, 20.76s/it]"
     ]
    },
    {
     "name": "stdout",
     "output_type": "stream",
     "text": [
      "\n",
      "💾 Checkpoint saved (895/1000 valid texts)\n",
      "Current pass rate: 98.7%\n",
      "Failure statistics:\n",
      "structure: 905\n",
      "topic: 66\n",
      "length_short: 230\n",
      "instructions: 11\n",
      "\n"
     ]
    },
    {
     "name": "stderr",
     "output_type": "stream",
     "text": [
      "Generating corpus:  91%|█████████████████████████████████████████████████████     | 914/1000 [4:28:02<25:19, 17.66s/it]"
     ]
    },
    {
     "name": "stdout",
     "output_type": "stream",
     "text": [
      "\n",
      "Failure statistics:\n",
      "structure: 912\n",
      "topic: 66\n",
      "length_short: 231\n",
      "instructions: 11\n",
      "\n"
     ]
    },
    {
     "name": "stderr",
     "output_type": "stream",
     "text": [
      "Generating corpus:  92%|█████████████████████████████████████████████████████▏    | 917/1000 [4:29:02<25:49, 18.67s/it]"
     ]
    },
    {
     "name": "stdout",
     "output_type": "stream",
     "text": [
      "\n",
      "💾 Checkpoint saved (905/1000 valid texts)\n",
      "Current pass rate: 98.7%\n",
      "Failure statistics:\n",
      "structure: 916\n",
      "topic: 67\n",
      "length_short: 232\n",
      "instructions: 11\n",
      "\n"
     ]
    },
    {
     "name": "stderr",
     "output_type": "stream",
     "text": [
      "Generating corpus:  93%|█████████████████████████████████████████████████████▊    | 927/1000 [4:31:50<21:22, 17.57s/it]"
     ]
    },
    {
     "name": "stdout",
     "output_type": "stream",
     "text": [
      "\n",
      "💾 Checkpoint saved (915/1000 valid texts)\n",
      "Current pass rate: 98.7%\n",
      "Failure statistics:\n",
      "structure: 926\n",
      "topic: 67\n",
      "length_short: 235\n",
      "instructions: 11\n",
      "\n"
     ]
    },
    {
     "name": "stderr",
     "output_type": "stream",
     "text": [
      "Generating corpus:  94%|██████████████████████████████████████████████████████▎   | 937/1000 [4:34:45<20:34, 19.60s/it]"
     ]
    },
    {
     "name": "stdout",
     "output_type": "stream",
     "text": [
      "\n",
      "💾 Checkpoint saved (925/1000 valid texts)\n",
      "Current pass rate: 98.7%\n",
      "Failure statistics:\n",
      "structure: 937\n",
      "topic: 68\n",
      "length_short: 239\n",
      "instructions: 11\n",
      "\n"
     ]
    },
    {
     "name": "stderr",
     "output_type": "stream",
     "text": [
      "Generating corpus:  94%|██████████████████████████████████████████████████████▌   | 940/1000 [4:35:38<17:52, 17.87s/it]"
     ]
    },
    {
     "name": "stdout",
     "output_type": "stream",
     "text": [
      "\n",
      "Failure statistics:\n",
      "structure: 940\n",
      "topic: 68\n",
      "length_short: 241\n",
      "instructions: 11\n",
      "\n"
     ]
    },
    {
     "name": "stderr",
     "output_type": "stream",
     "text": [
      "Generating corpus:  95%|██████████████████████████████████████████████████████▉   | 947/1000 [4:37:28<14:31, 16.44s/it]"
     ]
    },
    {
     "name": "stdout",
     "output_type": "stream",
     "text": [
      "\n",
      "💾 Checkpoint saved (935/1000 valid texts)\n",
      "Current pass rate: 98.7%\n",
      "Failure statistics:\n",
      "structure: 947\n",
      "topic: 68\n",
      "length_short: 242\n",
      "instructions: 11\n",
      "\n"
     ]
    },
    {
     "name": "stderr",
     "output_type": "stream",
     "text": [
      "Generating corpus:  96%|███████████████████████████████████████████████████████▌  | 957/1000 [4:40:34<14:42, 20.53s/it]"
     ]
    },
    {
     "name": "stdout",
     "output_type": "stream",
     "text": [
      "\n",
      "💾 Checkpoint saved (945/1000 valid texts)\n",
      "Current pass rate: 98.7%\n",
      "Failure statistics:\n",
      "structure: 958\n",
      "topic: 69\n",
      "length_short: 246\n",
      "instructions: 12\n",
      "\n"
     ]
    },
    {
     "name": "stderr",
     "output_type": "stream",
     "text": [
      "Generating corpus:  97%|████████████████████████████████████████████████████████  | 967/1000 [4:43:34<10:38, 19.34s/it]"
     ]
    },
    {
     "name": "stdout",
     "output_type": "stream",
     "text": [
      "\n",
      "💾 Checkpoint saved (955/1000 valid texts)\n",
      "Current pass rate: 98.8%\n",
      "Failure statistics:\n",
      "structure: 968\n",
      "topic: 69\n",
      "length_short: 248\n",
      "instructions: 13\n",
      "\n"
     ]
    },
    {
     "name": "stderr",
     "output_type": "stream",
     "text": [
      "Generating corpus:  97%|████████████████████████████████████████████████████████▏ | 968/1000 [4:44:01<11:39, 21.86s/it]"
     ]
    },
    {
     "name": "stdout",
     "output_type": "stream",
     "text": [
      "\n",
      "Failure statistics:\n",
      "structure: 969\n",
      "topic: 69\n",
      "length_short: 249\n",
      "instructions: 13\n",
      "\n"
     ]
    },
    {
     "name": "stderr",
     "output_type": "stream",
     "text": [
      "Generating corpus:  98%|████████████████████████████████████████████████████████▋ | 977/1000 [4:46:56<07:45, 20.26s/it]"
     ]
    },
    {
     "name": "stdout",
     "output_type": "stream",
     "text": [
      "\n",
      "💾 Checkpoint saved (965/1000 valid texts)\n",
      "Current pass rate: 98.8%\n",
      "Failure statistics:\n",
      "structure: 980\n",
      "topic: 71\n",
      "length_short: 250\n",
      "instructions: 13\n",
      "\n"
     ]
    },
    {
     "name": "stderr",
     "output_type": "stream",
     "text": [
      "Generating corpus:  98%|████████████████████████████████████████████████████████▉ | 981/1000 [4:47:59<04:59, 15.75s/it]"
     ]
    },
    {
     "name": "stdout",
     "output_type": "stream",
     "text": [
      "\n",
      "Failure statistics:\n",
      "structure: 984\n",
      "topic: 71\n",
      "length_short: 252\n",
      "instructions: 13\n",
      "\n"
     ]
    },
    {
     "name": "stderr",
     "output_type": "stream",
     "text": [
      "Generating corpus:  99%|█████████████████████████████████████████████████████████▏| 987/1000 [4:49:55<04:13, 19.53s/it]"
     ]
    },
    {
     "name": "stdout",
     "output_type": "stream",
     "text": [
      "\n",
      "💾 Checkpoint saved (975/1000 valid texts)\n",
      "Current pass rate: 98.8%\n",
      "Failure statistics:\n",
      "structure: 990\n",
      "topic: 71\n",
      "length_short: 253\n",
      "instructions: 13\n",
      "\n"
     ]
    },
    {
     "name": "stderr",
     "output_type": "stream",
     "text": [
      "Generating corpus: 100%|█████████████████████████████████████████████████████████▊| 997/1000 [4:52:31<00:44, 14.81s/it]"
     ]
    },
    {
     "name": "stdout",
     "output_type": "stream",
     "text": [
      "\n",
      "Failure statistics:\n",
      "structure: 1000\n",
      "topic: 71\n",
      "length_short: 256\n",
      "instructions: 13\n",
      "\n",
      "\n",
      "💾 Checkpoint saved (985/1000 valid texts)\n",
      "Current pass rate: 98.8%\n",
      "Failure statistics:\n",
      "structure: 1000\n",
      "topic: 71\n",
      "length_short: 256\n",
      "instructions: 13\n",
      "\n"
     ]
    },
    {
     "name": "stderr",
     "output_type": "stream",
     "text": [
      "Generating corpus: 100%|█████████████████████████████████████████████████████████| 1000/1000 [4:53:38<00:00, 18.68s/it]\n"
     ]
    },
    {
     "name": "stdout",
     "output_type": "stream",
     "text": [
      "\n",
      "✅ Successfully generated 988 valid texts\n",
      "Final failure statistics:\n",
      "structure: 1003\n",
      "topic: 71\n",
      "length_short: 256\n",
      "instructions: 13\n"
     ]
    }
   ],
   "source": [
    "corpus_df = generate_corpus(\n",
    "    num_texts=1000, batch_size=1, output_csv='gen.csv', checkpoint_interval=10  # Save after every 5 batches\n",
    ")"
   ]
  },
  {
   "cell_type": "code",
   "execution_count": null,
   "id": "ec45b7e0-d1b5-4b1d-b26e-35e75d10ed38",
   "metadata": {},
   "outputs": [
    {
     "name": "stdout",
     "output_type": "stream",
     "text": [
      "⏩ Resuming from checkpoint (620/630 texts already generated)\n"
     ]
    },
    {
     "name": "stderr",
     "output_type": "stream",
     "text": [
      "Generating corpus:  99%|████████████████████████████████████████████████████████████▏| 621/630 [00:26<04:02, 26.92s/it]"
     ]
    }
   ],
   "source": [
    "corpus_df = generate_corpus(\n",
    "    num_texts=630, batch_size=1, output_csv='gen2.csv', checkpoint_interval=10  # Save after every 5 batches\n",
    ")"
   ]
  },
  {
   "cell_type": "code",
   "execution_count": null,
   "id": "a414e56e-4938-44f9-9435-b47775312bd5",
   "metadata": {},
   "outputs": [],
   "source": []
  }
 ],
 "metadata": {
  "kernelspec": {
   "display_name": "Python 3 (ipykernel)",
   "language": "python",
   "name": "python3"
  },
  "language_info": {
   "codemirror_mode": {
    "name": "ipython",
    "version": 3
   },
   "file_extension": ".py",
   "mimetype": "text/x-python",
   "name": "python",
   "nbconvert_exporter": "python",
   "pygments_lexer": "ipython3",
   "version": "3.12.8"
  }
 },
 "nbformat": 4,
 "nbformat_minor": 5
}
